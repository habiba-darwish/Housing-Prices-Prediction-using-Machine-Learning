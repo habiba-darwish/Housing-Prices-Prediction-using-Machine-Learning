{
  "cells": [
    {
      "cell_type": "markdown",
      "metadata": {
        "id": "view-in-github"
      },
      "source": [
        "<a href=\"https://colab.research.google.com/github/janaghoniem/Housing-Prices-Prediction-using-Machine-Learning/blob/main/Task_1.ipynb\" target=\"_parent\"><img src=\"https://colab.research.google.com/assets/colab-badge.svg\" alt=\"Open In Colab\"/></a>"
      ]
    },
    {
      "cell_type": "markdown",
      "metadata": {
        "id": "7v5U8CdzclsI"
      },
      "source": [
        "# House Price Prediciton"
      ]
    },
    {
      "cell_type": "code",
      "execution_count": 1,
      "metadata": {
        "colab": {
          "base_uri": "https://localhost:8080/"
        },
        "id": "wmdNH9ivh-uZ",
        "outputId": "6c9ad8e7-138f-408b-9f29-8af2a5a1068e"
      },
      "outputs": [
        {
          "output_type": "stream",
          "name": "stdout",
          "text": [
            "Collecting deap\n",
            "  Downloading deap-1.4.2-cp311-cp311-manylinux_2_5_x86_64.manylinux1_x86_64.manylinux_2_17_x86_64.manylinux2014_x86_64.whl.metadata (13 kB)\n",
            "Requirement already satisfied: numpy in /usr/local/lib/python3.11/dist-packages (from deap) (1.26.4)\n",
            "Downloading deap-1.4.2-cp311-cp311-manylinux_2_5_x86_64.manylinux1_x86_64.manylinux_2_17_x86_64.manylinux2014_x86_64.whl (135 kB)\n",
            "\u001b[?25l   \u001b[90m━━━━━━━━━━━━━━━━━━━━━━━━━━━━━━━━━━━━━━━━\u001b[0m \u001b[32m0.0/135.4 kB\u001b[0m \u001b[31m?\u001b[0m eta \u001b[36m-:--:--\u001b[0m\r\u001b[2K   \u001b[91m━━━━━━━━━━━━━━━━━━━━━━━━\u001b[0m\u001b[90m╺\u001b[0m\u001b[90m━━━━━━━━━━━━━━━\u001b[0m \u001b[32m81.9/135.4 kB\u001b[0m \u001b[31m2.9 MB/s\u001b[0m eta \u001b[36m0:00:01\u001b[0m\r\u001b[2K   \u001b[90m━━━━━━━━━━━━━━━━━━━━━━━━━━━━━━━━━━━━━━━━\u001b[0m \u001b[32m135.4/135.4 kB\u001b[0m \u001b[31m2.3 MB/s\u001b[0m eta \u001b[36m0:00:00\u001b[0m\n",
            "\u001b[?25hInstalling collected packages: deap\n",
            "Successfully installed deap-1.4.2\n"
          ]
        }
      ],
      "source": [
        "pip install deap"
      ]
    },
    {
      "cell_type": "code",
      "execution_count": 2,
      "metadata": {
        "id": "GrAC3rz0VksP"
      },
      "outputs": [],
      "source": [
        "import pandas as pd\n",
        "import numpy as np\n",
        "import matplotlib.pyplot as plt\n",
        "import seaborn as sns\n",
        "import scipy.stats as stats\n",
        "from sklearn.preprocessing import StandardScaler, LabelEncoder, OneHotEncoder\n",
        "from sklearn.preprocessing import RobustScaler\n",
        "from sklearn.preprocessing import MinMaxScaler\n",
        "from sklearn.datasets import make_regression\n",
        "from sklearn.model_selection import train_test_split\n",
        "from sklearn.feature_selection import mutual_info_regression\n",
        "from sklearn.linear_model import LinearRegression\n",
        "from sklearn.metrics import mean_squared_error\n",
        "from deap import base, creator, tools, algorithms\n",
        "import random"
      ]
    },
    {
      "cell_type": "code",
      "execution_count": 4,
      "metadata": {
        "colab": {
          "base_uri": "https://localhost:8080/"
        },
        "id": "WZyiw7XCPb4w",
        "outputId": "8bab422c-a755-4a95-b420-fc0416b0dfd2"
      },
      "outputs": [
        {
          "output_type": "stream",
          "name": "stdout",
          "text": [
            "Mounted at /content/drive\n"
          ]
        }
      ],
      "source": [
        "from google.colab import drive\n",
        "drive.mount('/content/drive')"
      ]
    },
    {
      "cell_type": "markdown",
      "metadata": {
        "id": "Fuuj4ZQOcpKQ"
      },
      "source": [
        "## Preprocessing"
      ]
    },
    {
      "cell_type": "code",
      "execution_count": 5,
      "metadata": {
        "id": "zbIuT0ZZVV9f"
      },
      "outputs": [],
      "source": [
        "dataset = pd.read_csv('/content/drive/MyDrive/Machine Learning/train.csv')"
      ]
    },
    {
      "cell_type": "code",
      "execution_count": null,
      "metadata": {
        "id": "eM3LFZ_bXx3J"
      },
      "outputs": [],
      "source": [
        "dataset.head(5)"
      ]
    },
    {
      "cell_type": "code",
      "execution_count": null,
      "metadata": {
        "id": "fAMi1LPsYvrX"
      },
      "outputs": [],
      "source": [
        "dataset.tail(5)"
      ]
    },
    {
      "cell_type": "code",
      "execution_count": null,
      "metadata": {
        "id": "MxJv-WNRYy_x"
      },
      "outputs": [],
      "source": [
        "dataset.shape"
      ]
    },
    {
      "cell_type": "code",
      "execution_count": null,
      "metadata": {
        "id": "Tg-ZIDpWY3yj"
      },
      "outputs": [],
      "source": [
        "dataset.describe()"
      ]
    },
    {
      "cell_type": "code",
      "execution_count": null,
      "metadata": {
        "id": "9HiV31odY_1g"
      },
      "outputs": [],
      "source": [
        "dataset.describe(include='object')"
      ]
    },
    {
      "cell_type": "code",
      "execution_count": null,
      "metadata": {
        "id": "Pxz2EyxYbd_-"
      },
      "outputs": [],
      "source": [
        "for i in dataset.select_dtypes(include= \"number\").columns:\n",
        "  sns.histplot(data=dataset,x=i)\n",
        "  plt.tight_layout()\n",
        "  plt.show()"
      ]
    },
    {
      "cell_type": "code",
      "execution_count": null,
      "metadata": {
        "id": "0RYGaPchbyTT"
      },
      "outputs": [],
      "source": [
        "for i in dataset.select_dtypes(include= \"number\").columns:\n",
        "  sns.boxplot(data=dataset,x=i)\n",
        "  plt.tight_layout()\n",
        "  plt.show()"
      ]
    },
    {
      "cell_type": "code",
      "execution_count": null,
      "metadata": {
        "id": "ILMG8EZRcP9_"
      },
      "outputs": [],
      "source": [
        "numeric_columns = dataset.select_dtypes(include = \"number\").columns\n",
        "\n",
        "numeric_features = [col for col in numeric_columns if col != 'SalePrice']\n",
        "\n",
        "print(numeric_columns)"
      ]
    },
    {
      "cell_type": "code",
      "execution_count": null,
      "metadata": {
        "id": "T3HcjFUicb7O"
      },
      "outputs": [],
      "source": [
        "for i in numeric_features:\n",
        "    sns.scatterplot(data=dataset, x=i, y='SalePrice')\n",
        "    plt.tight_layout()\n",
        "    plt.show()"
      ]
    },
    {
      "cell_type": "code",
      "execution_count": null,
      "metadata": {
        "id": "DzEnR-C_dWSz"
      },
      "outputs": [],
      "source": [
        "dataset.info()"
      ]
    },
    {
      "cell_type": "code",
      "execution_count": null,
      "metadata": {
        "id": "RZVzt5G0drof"
      },
      "outputs": [],
      "source": [
        "missing_values = dataset.isnull().sum()\n",
        "missing_values = missing_values[missing_values > 0]\n",
        "print(missing_values.to_frame().rename(columns={0: 'Missing Values'}))"
      ]
    },
    {
      "cell_type": "code",
      "execution_count": null,
      "metadata": {
        "id": "tQQ5vPMtdyiD"
      },
      "outputs": [],
      "source": [
        "(missing_values/dataset.shape[0])*100"
      ]
    },
    {
      "cell_type": "code",
      "execution_count": null,
      "metadata": {
        "id": "fxA7x6bDfjV7"
      },
      "outputs": [],
      "source": [
        "threshold = 0.5\n",
        "dataset = dataset.dropna(thresh=int(threshold * len(dataset)), axis=1)"
      ]
    },
    {
      "cell_type": "code",
      "execution_count": null,
      "metadata": {
        "id": "PvuUzBmYfpd7"
      },
      "outputs": [],
      "source": [
        "missing_values = dataset.isnull().sum()\n",
        "missing_values = missing_values[missing_values > 0]\n",
        "print(missing_values.to_frame().rename(columns={0: 'Missing Values'}))"
      ]
    },
    {
      "cell_type": "code",
      "execution_count": null,
      "metadata": {
        "id": "eLdHY0A6fzyt"
      },
      "outputs": [],
      "source": [
        "(missing_values/dataset.shape[0])*100"
      ]
    },
    {
      "cell_type": "code",
      "execution_count": null,
      "metadata": {
        "id": "Ufzm48I9glYf"
      },
      "outputs": [],
      "source": [
        "categorical_features = dataset.select_dtypes(include=['object']).columns"
      ]
    },
    {
      "cell_type": "code",
      "execution_count": null,
      "metadata": {
        "id": "4-X6D1KAgIuZ"
      },
      "outputs": [],
      "source": [
        "for feature in categorical_features:\n",
        "    print(f\"Unique values for {feature}:\")\n",
        "    print(dataset[feature].unique())\n",
        "    print(\"\\n\")"
      ]
    },
    {
      "cell_type": "code",
      "execution_count": null,
      "metadata": {
        "id": "_xRqLzVXg8HX"
      },
      "outputs": [],
      "source": [
        "pd.set_option('display.max_rows', None)\n",
        "unique_counts = dataset.nunique()\n",
        "print(unique_counts)"
      ]
    },
    {
      "cell_type": "code",
      "execution_count": null,
      "metadata": {
        "id": "cv1qWbv_hKIU"
      },
      "outputs": [],
      "source": [
        "duplicates_count = dataset.duplicated().sum()\n",
        "print(f\"Number of duplicate rows: {duplicates_count}\")"
      ]
    },
    {
      "cell_type": "code",
      "execution_count": null,
      "metadata": {
        "id": "VWXliFlhhnQN"
      },
      "outputs": [],
      "source": [
        "duplicate_ids = dataset[dataset.duplicated(subset=['Id'], keep=False)]\n",
        "duplicate_ids.sort_values(by='Id', inplace=True)\n",
        "duplicate_ids.head(6)"
      ]
    },
    {
      "cell_type": "code",
      "execution_count": null,
      "metadata": {
        "id": "8OT4nF5bh0qq"
      },
      "outputs": [],
      "source": [
        "dataset = dataset.drop(columns=['Id'])"
      ]
    },
    {
      "cell_type": "code",
      "execution_count": null,
      "metadata": {
        "id": "Zk9-9cN7h9_t"
      },
      "outputs": [],
      "source": [
        "categorical_cols = dataset.select_dtypes(include=['object']).columns\n",
        "numerical_cols = dataset.select_dtypes(include=['int64', 'float64']).columns\n",
        "\n",
        "print(\"Categorical Columns:\", categorical_cols)\n",
        "print(\"Numerical Columns:\", numerical_cols)"
      ]
    },
    {
      "cell_type": "code",
      "execution_count": null,
      "metadata": {
        "id": "QcyymuffnuR2"
      },
      "outputs": [],
      "source": [
        "missing_num = [col for col in missing_values.index if col in numerical_cols]\n",
        "missing_cat = [col for col in missing_values.index if col in categorical_cols]\n",
        "\n",
        "skewness = dataset[missing_num].skew()\n",
        "\n",
        "print(\"Numerical Features with Missing Values:\")\n",
        "print(skewness)"
      ]
    },
    {
      "cell_type": "code",
      "execution_count": null,
      "metadata": {
        "id": "8cp1Rfo2u6JP"
      },
      "outputs": [],
      "source": [
        "numeric_df = dataset.select_dtypes(include=['number'])\n",
        "correlation = numeric_df.corr()['LotFrontage'].sort_values(ascending=False)\n",
        "\n",
        "print(correlation)"
      ]
    },
    {
      "cell_type": "code",
      "execution_count": null,
      "metadata": {
        "id": "8aeAYS5qv4zs"
      },
      "outputs": [],
      "source": [
        "categorical_features = dataset.select_dtypes(include=['object']).columns\n",
        "anova_results = {}\n",
        "\n",
        "for col in categorical_features:\n",
        "    unique_vals = dataset[col].nunique()\n",
        "    if unique_vals > 1:\n",
        "        groups = [dataset['LotFrontage'][dataset[col] == category].dropna() for category in dataset[col].unique()]\n",
        "        f_stat, p_value = stats.f_oneway(*groups)\n",
        "        anova_results[col] = p_value\n",
        "\n",
        "anova_results = {k: v for k, v in sorted(anova_results.items(), key=lambda item: item[1])}\n",
        "\n",
        "print(\"ANOVA Test Results (Categorical vs. LotFrontage):\")\n",
        "print(anova_results)"
      ]
    },
    {
      "cell_type": "code",
      "execution_count": null,
      "metadata": {
        "id": "JQD5Mcw6zr7u"
      },
      "outputs": [],
      "source": [
        "dataset['LotFrontage'] = dataset.groupby(['BldgType', 'Neighborhood'])['LotFrontage'].transform(lambda x: x.fillna(x.median()))"
      ]
    },
    {
      "cell_type": "code",
      "execution_count": null,
      "metadata": {
        "id": "fTL7Hh2u2eBv"
      },
      "outputs": [],
      "source": [
        "null_lotfrontage = dataset['LotFrontage'].isnull().sum()\n",
        "print(f\"Number of null values in 'LotFrontage' column: {null_lotfrontage}\")"
      ]
    },
    {
      "cell_type": "code",
      "execution_count": null,
      "metadata": {
        "id": "SI4l0-GG4NBR"
      },
      "outputs": [],
      "source": [
        "dataset['MasVnrArea'].fillna(0, inplace=True)"
      ]
    },
    {
      "cell_type": "code",
      "execution_count": null,
      "metadata": {
        "id": "jOfpI0i05VIn"
      },
      "outputs": [],
      "source": [
        "null_MasVnrArea = dataset['MasVnrArea'].isnull().sum()\n",
        "print(f\"Number of null values in 'MasVnrArea' column: {null_MasVnrArea}\")"
      ]
    },
    {
      "cell_type": "code",
      "execution_count": null,
      "metadata": {
        "id": "T6JIrn315k9k"
      },
      "outputs": [],
      "source": [
        "print(\"Categorical Features with Missing Values:\")\n",
        "print(missing_cat)"
      ]
    },
    {
      "cell_type": "code",
      "execution_count": null,
      "metadata": {
        "id": "qpBPe8fq8dV7"
      },
      "outputs": [],
      "source": [
        "for col in ['BsmtQual', 'BsmtCond', 'BsmtExposure', 'BsmtFinType1', 'BsmtFinType2',\n",
        "            'Electrical', 'FireplaceQu', 'GarageType', 'GarageFinish', 'GarageQual', 'GarageCond']:\n",
        "    print(f\"{col}: {dataset[col].nunique()} unique values\")\n",
        "    print(dataset[col].unique(), \"\\n\")  # Display unique values"
      ]
    },
    {
      "cell_type": "code",
      "execution_count": null,
      "metadata": {
        "id": "WNUvXLr599Gv"
      },
      "outputs": [],
      "source": [
        "print(\"Missing values BEFORE imputation:\\n\")\n",
        "print(dataset[['GarageType', 'GarageFinish', 'GarageQual', 'GarageCond',\n",
        "               'BsmtQual', 'BsmtCond', 'BsmtExposure', 'BsmtFinType1', 'BsmtFinType2',\n",
        "               'Electrical', 'FireplaceQu']].isnull().sum())\n",
        "\n",
        "garage_cols = ['GarageType', 'GarageFinish', 'GarageQual', 'GarageCond']\n",
        "has_garage = dataset[garage_cols].notnull().any(axis=1)\n",
        "\n",
        "dataset.loc[~has_garage, garage_cols] = \"NA\"\n",
        "\n",
        "for col in garage_cols:\n",
        "    dataset[col] = dataset.groupby('GarageType')[col].transform(lambda x: x.fillna(x.mode()[0]))\n",
        "\n",
        "bsmt_cols = ['BsmtQual', 'BsmtCond', 'BsmtExposure', 'BsmtFinType1', 'BsmtFinType2']\n",
        "has_basement = dataset[bsmt_cols].notnull().any(axis=1)\n",
        "\n",
        "dataset.loc[~has_basement, bsmt_cols] = \"NA\"\n",
        "\n",
        "for col in bsmt_cols:\n",
        "    dataset[col] = dataset.groupby('BsmtQual')[col].transform(lambda x: x.fillna(x.mode()[0]))\n",
        "\n",
        "dataset['Electrical'].fillna(dataset['Electrical'].mode()[0], inplace=True)\n",
        "\n",
        "dataset['FireplaceQu'].fillna(\"NA\", inplace=True)\n",
        "\n",
        "print(\"\\nMissing values AFTER imputation:\\n\")\n",
        "print(dataset[['GarageType', 'GarageFinish', 'GarageQual', 'GarageCond',\n",
        "               'BsmtQual', 'BsmtCond', 'BsmtExposure', 'BsmtFinType1', 'BsmtFinType2',\n",
        "               'Electrical', 'FireplaceQu']].isnull().sum())"
      ]
    },
    {
      "cell_type": "code",
      "execution_count": null,
      "metadata": {
        "id": "s-Fv_6xJBmEP"
      },
      "outputs": [],
      "source": [
        "print(\"Missing GarageYrBlt:\", dataset['GarageYrBlt'].isnull().sum())\n",
        "print(\"Rows where GarageYrBlt is missing but GarageType is NOT 'NA':\")\n",
        "print(dataset[dataset['GarageYrBlt'].isnull() & (dataset['GarageType'] != \"NA\")][['GarageType', 'GarageYrBlt', 'YearBuilt']])"
      ]
    },
    {
      "cell_type": "code",
      "execution_count": null,
      "metadata": {
        "id": "8XD9Dcl3C6UG"
      },
      "outputs": [],
      "source": [
        "dataset.loc[dataset['GarageYrBlt'].isnull(), 'GarageYrBlt'] = 0\n",
        "\n",
        "dataset['GarageYrBlt'] = dataset['GarageYrBlt'].astype(int)\n",
        "\n",
        "print(\"Missing GarageYrBlt AFTER filling:\", dataset['GarageYrBlt'].isnull().sum())"
      ]
    },
    {
      "cell_type": "code",
      "execution_count": null,
      "metadata": {
        "id": "-zchznvLBJFi"
      },
      "outputs": [],
      "source": [
        "dataset.isnull().sum()"
      ]
    },
    {
      "cell_type": "code",
      "execution_count": null,
      "metadata": {
        "id": "coePzeaPCewU"
      },
      "outputs": [],
      "source": [
        "print(\"Missing LotFrontage:\", dataset['LotFrontage'].isnull().sum())\n",
        "print(dataset[dataset['LotFrontage'].isnull()][['Neighborhood', 'BldgType', 'LotFrontage']])"
      ]
    },
    {
      "cell_type": "code",
      "execution_count": null,
      "metadata": {
        "id": "wskPHZjhEw41"
      },
      "outputs": [],
      "source": [
        "dataset['LotFrontage'].fillna(dataset[dataset['BldgType'] == '2fmCon']['LotFrontage'].median(), inplace=True)"
      ]
    },
    {
      "cell_type": "code",
      "execution_count": null,
      "metadata": {
        "id": "aPunx01oEzoC"
      },
      "outputs": [],
      "source": [
        "dataset.isnull().sum()"
      ]
    },
    {
      "cell_type": "code",
      "execution_count": null,
      "metadata": {
        "id": "yVOZCIjgFWxL"
      },
      "outputs": [],
      "source": [
        "num_cols = dataset.select_dtypes(include=['int64', 'float64']).columns\n",
        "outliers = {}\n",
        "for col in num_cols:\n",
        "    Q1 = dataset[col].quantile(0.25)\n",
        "    Q3 = dataset[col].quantile(0.75)\n",
        "    IQR = Q3 - Q1\n",
        "    lower_bound = Q1 - 1.5 * IQR\n",
        "    upper_bound = Q3 + 1.5 * IQR\n",
        "    outliers[col] = ((dataset[col] < lower_bound) | (dataset[col] > upper_bound)).sum()\n",
        "\n",
        "outliers_df = pd.DataFrame(outliers.items(), columns=['Feature', 'Outlier Count'])\n",
        "print(outliers_df.sort_values(by='Outlier Count', ascending=False))"
      ]
    },
    {
      "cell_type": "code",
      "execution_count": null,
      "metadata": {
        "id": "hTX0wia7GFuY"
      },
      "outputs": [],
      "source": [
        "# List of features to cap extreme values\n",
        "cap_features = ['EnclosedPorch', 'ScreenPorch', 'OpenPorchSF', '3SsnPorch', 'WoodDeckSF',\n",
        "                'BsmtFinSF2', 'BsmtUnfSF', 'TotalBsmtSF', 'BsmtFinSF1',\n",
        "                'MasVnrArea', 'Fireplaces', 'GarageArea', 'GarageCars']\n",
        "\n",
        "for col in cap_features:\n",
        "    Q1 = dataset[col].quantile(0.25)\n",
        "    Q3 = dataset[col].quantile(0.75)\n",
        "    IQR = Q3 - Q1\n",
        "    lower_bound = Q1 - 1.5 * IQR\n",
        "    upper_bound = Q3 + 1.5 * IQR\n",
        "    dataset[col] = np.clip(dataset[col], lower_bound, upper_bound)"
      ]
    },
    {
      "cell_type": "code",
      "execution_count": null,
      "metadata": {
        "id": "hxPoCkd1GLFY"
      },
      "outputs": [],
      "source": [
        "skewed_cols = ['LotArea', 'LotFrontage', 'SalePrice', 'GrLivArea']\n",
        "\n",
        "# Apply log transformation\n",
        "for col in skewed_cols:\n",
        "    dataset[col] = np.log1p(dataset[col])  # log1p(x) = log(x + 1) to handle zeros"
      ]
    },
    {
      "cell_type": "code",
      "execution_count": null,
      "metadata": {
        "id": "3noyHAI8GhuG"
      },
      "outputs": [],
      "source": [
        "plt.figure(figsize=(15, 10))\n",
        "for i, col in enumerate(cap_features[:12]):  # Show first 12 capped features\n",
        "    plt.subplot(4, 3, i + 1)\n",
        "    sns.boxplot(x=dataset[col])\n",
        "    plt.title(col)\n",
        "plt.tight_layout()\n",
        "plt.show()"
      ]
    },
    {
      "cell_type": "code",
      "execution_count": null,
      "metadata": {
        "id": "ZfijosIBGnXU"
      },
      "outputs": [],
      "source": [
        "print(dataset[skewed_cols].skew().sort_values(ascending=False))"
      ]
    },
    {
      "cell_type": "code",
      "execution_count": null,
      "metadata": {
        "id": "s6IhpLP1HnML"
      },
      "outputs": [],
      "source": [
        "num_cols = dataset.select_dtypes(include=['int64', 'float64']).columns\n",
        "outliers = {}\n",
        "for col in num_cols:\n",
        "    Q1 = dataset[col].quantile(0.25)\n",
        "    Q3 = dataset[col].quantile(0.75)\n",
        "    IQR = Q3 - Q1\n",
        "    lower_bound = Q1 - 1.5 * IQR\n",
        "    upper_bound = Q3 + 1.5 * IQR\n",
        "    outliers[col] = ((dataset[col] < lower_bound) | (dataset[col] > upper_bound)).sum()\n",
        "\n",
        "outliers_df = pd.DataFrame(outliers.items(), columns=['Feature', 'Outlier Count'])\n",
        "print(outliers_df.sort_values(by='Outlier Count', ascending=False))"
      ]
    },
    {
      "cell_type": "code",
      "execution_count": null,
      "metadata": {
        "id": "uvfarDR5KV-7"
      },
      "outputs": [],
      "source": [
        "dataset.info()"
      ]
    },
    {
      "cell_type": "code",
      "execution_count": null,
      "metadata": {
        "id": "bzpo3isBKnO4"
      },
      "outputs": [],
      "source": [
        "duplicates_count = dataset.duplicated().sum()\n",
        "print(f\"Number of duplicate rows: {duplicates_count}\")"
      ]
    },
    {
      "cell_type": "code",
      "execution_count": null,
      "metadata": {
        "id": "gGPrNE15IF8-"
      },
      "outputs": [],
      "source": [
        "#dataset.to_csv(\"/content/drive/My Drive/Machine Learning/cleaned_dataset.csv\", index=False)"
      ]
    },
    {
      "cell_type": "markdown",
      "metadata": {
        "id": "S7hvzRpiczyW"
      },
      "source": [
        "## Feature Engineering"
      ]
    },
    {
      "cell_type": "code",
      "execution_count": 6,
      "metadata": {
        "id": "FKKBMneodCn-"
      },
      "outputs": [],
      "source": [
        "dataset = pd.read_csv('/content/drive/MyDrive/Machine Learning/cleaned_dataset.csv')"
      ]
    },
    {
      "cell_type": "code",
      "execution_count": 7,
      "metadata": {
        "collapsed": true,
        "id": "GvMujTHYdHJ0"
      },
      "outputs": [],
      "source": [
        "def check_non_finite(dataset):\n",
        "    non_finite_counts = (dataset.isna().sum() + (dataset == np.inf).sum() + (dataset == -np.inf).sum())\n",
        "    print(\"Non-finite values in each column:\")\n",
        "    print(non_finite_counts[non_finite_counts > 0])\n",
        "    dataset.info()\n",
        "    return dataset"
      ]
    },
    {
      "cell_type": "code",
      "execution_count": 8,
      "metadata": {
        "id": "vWVA26JNFTo2"
      },
      "outputs": [],
      "source": [
        "def replace_non_finite(dataset):\n",
        "    dataset = dataset.replace([np.inf, -np.inf], np.nan)  # Convert inf/-inf to NaN first\n",
        "    dataset = dataset.fillna(0)  # Replace NaN with 0\n",
        "    non_finite_counts = (dataset.isna().sum() + (dataset == np.inf).sum() + (dataset == -np.inf).sum())\n",
        "    print(\"Non-finite values in each column:\")\n",
        "    print(non_finite_counts[non_finite_counts > 0])\n",
        "    return dataset"
      ]
    },
    {
      "cell_type": "code",
      "execution_count": 9,
      "metadata": {
        "id": "tr7Mo9ESFWQU"
      },
      "outputs": [],
      "source": [
        "def check_duplicates(dataset):\n",
        "    duplicate_count = dataset.duplicated().sum()\n",
        "    print(f\"Number of duplicate rows: {duplicate_count}\")\n",
        "    return dataset"
      ]
    },
    {
      "cell_type": "code",
      "execution_count": 10,
      "metadata": {
        "id": "QS9dCPblFYkW"
      },
      "outputs": [],
      "source": [
        "def display_null_counts(dataset):\n",
        "    print(\"Number of null values per column:\")\n",
        "    print(dataset.isnull().sum())\n",
        "    return dataset\n"
      ]
    },
    {
      "cell_type": "markdown",
      "metadata": {
        "id": "Qkuwj2NddLvx"
      },
      "source": [
        "### Creating new features"
      ]
    },
    {
      "cell_type": "code",
      "execution_count": 11,
      "metadata": {
        "id": "kgeyJa-tBtYO"
      },
      "outputs": [],
      "source": [
        "def create_features(dataset):\n",
        "    dataset['TotalBath'] = dataset['FullBath'] + 0.5 * dataset['HalfBath'] + dataset['BsmtFullBath'] + 0.5 * dataset['BsmtHalfBath']\n",
        "    dataset['TotalPorchSF'] = dataset['OpenPorchSF'] + dataset['EnclosedPorch'] + dataset['3SsnPorch'] + dataset['ScreenPorch']\n",
        "    dataset['HouseAge'] = dataset['YrSold'] - dataset['YearBuilt']\n",
        "    dataset['IsRemodeled'] = (dataset['YearBuilt'] != dataset['YearRemodAdd']).astype(int)\n",
        "    dataset[\"TotalSqFt\"] = dataset[\"GrLivArea\"] + dataset[\"TotalBsmtSF\"] + dataset[\"GarageArea\"]\n",
        "    dataset[\"HasGarage\"] = (dataset[\"GarageArea\"] > 0).astype(int)\n",
        "    dataset[\"QualitySize\"] = dataset[\"OverallQual\"] * dataset[\"GrLivArea\"]\n",
        "    return dataset"
      ]
    },
    {
      "cell_type": "markdown",
      "metadata": {
        "id": "AvgkPvwLdixY"
      },
      "source": [
        "### Mapping Features"
      ]
    },
    {
      "cell_type": "code",
      "execution_count": 12,
      "metadata": {
        "id": "HovWmVZrBzTN"
      },
      "outputs": [],
      "source": [
        "def map_features(dataset):\n",
        "    bsmt_fin_type_map = {'NA': 0, 'Unf': 1, 'LwQ': 2, 'Rec': 3, 'BLQ': 4, 'ALQ': 5, 'GLQ': 6}\n",
        "    dataset['BsmtFinType1'] = dataset['BsmtFinType1'].map(bsmt_fin_type_map)\n",
        "    dataset['BsmtFinType2'] = dataset['BsmtFinType2'].map(bsmt_fin_type_map)\n",
        "\n",
        "    dataset['TotalBsmtFinScore'] = (\n",
        "        dataset['BsmtFinSF1'] * dataset['BsmtFinType1'] +\n",
        "        dataset['BsmtFinSF2'] * dataset['BsmtFinType2']\n",
        "    )\n",
        "\n",
        "    dataset['BsmtFinRatio'] = (\n",
        "        (dataset['BsmtFinSF1'] + dataset['BsmtFinSF2']) / dataset['TotalBsmtSF']\n",
        "    ).fillna(0)\n",
        "\n",
        "    nbhd_map = dataset.groupby(\"Neighborhood\")[\"SalePrice\"].median()\n",
        "    dataset[\"Neighborhood\"] = dataset[\"Neighborhood\"].map(nbhd_map)\n",
        "    dataset[\"NeighborhoodQuality\"] = dataset[\"Neighborhood\"] * dataset[\"OverallQual\"]\n",
        "\n",
        "    quality_map = {\"Ex\": 5, \"Gd\": 4, \"TA\": 3, \"Fa\": 2, \"Po\": 1}\n",
        "    for col in [\"ExterQual\", \"KitchenQual\", \"HeatingQC\"]:\n",
        "        if col in dataset.columns:\n",
        "            dataset[col + \"_ordinal\"] = dataset[col].map(quality_map)\n",
        "\n",
        "    return dataset"
      ]
    },
    {
      "cell_type": "markdown",
      "metadata": {
        "id": "ZSzr_jXWdgQb"
      },
      "source": [
        "### Drop features"
      ]
    },
    {
      "cell_type": "code",
      "execution_count": 13,
      "metadata": {
        "id": "x1u1KLCpCAoM"
      },
      "outputs": [],
      "source": [
        "def drop_features(dataset):\n",
        "    dataset = dataset.drop(['Street'], axis=1)\n",
        "    columns_to_drop = ['FullBath', 'HalfBath', 'BsmtFullBath', 'BsmtHalfBath',\n",
        "                       'OpenPorchSF', 'EnclosedPorch', '3SsnPorch', 'ScreenPorch',\n",
        "                       'GrLivArea', 'TotalBsmtSF', 'GarageArea', 'OverallQual',\n",
        "                       'BsmtFinSF2', 'BsmtFinType2', 'BsmtFinType1', 'BsmtFinSF1',\n",
        "                       'Neighborhood', 'ExterQual', 'KitchenQual', 'HeatingQC']\n",
        "    dataset = dataset.drop(columns=columns_to_drop)\n",
        "    return dataset"
      ]
    },
    {
      "cell_type": "code",
      "execution_count": 14,
      "metadata": {
        "colab": {
          "base_uri": "https://localhost:8080/"
        },
        "id": "2DGMaiK2dmfg",
        "outputId": "a98f7191-a006-48cc-b655-31e3bd40ff2d"
      },
      "outputs": [
        {
          "output_type": "stream",
          "name": "stdout",
          "text": [
            "Number of zero values in 'TotalBsmtSF': 0\n"
          ]
        }
      ],
      "source": [
        "zero_count = (dataset['TotalBsmtSF'] == 0).sum()\n",
        "print(\"Number of zero values in 'TotalBsmtSF':\", zero_count)"
      ]
    },
    {
      "cell_type": "code",
      "execution_count": 15,
      "metadata": {
        "colab": {
          "base_uri": "https://localhost:8080/"
        },
        "id": "-sJKS2IIdnyM",
        "outputId": "b2cb30ac-ccee-4054-d5dd-58ebec17493c"
      },
      "outputs": [
        {
          "output_type": "execute_result",
          "data": {
            "text/plain": [
              "array([0])"
            ]
          },
          "metadata": {},
          "execution_count": 15
        }
      ],
      "source": [
        "dataset['BsmtFinSF2'].unique()"
      ]
    },
    {
      "cell_type": "markdown",
      "metadata": {
        "id": "XOmA5_kAduxd"
      },
      "source": [
        "### Encoding Categorical Columns"
      ]
    },
    {
      "cell_type": "code",
      "execution_count": 16,
      "metadata": {
        "id": "KGPs5wmDCW4Q"
      },
      "outputs": [],
      "source": [
        "def encode_categorical(dataset):\n",
        "    nominal_cols = [\n",
        "        'MSZoning', 'LotShape', 'LandContour', 'Utilities', 'LotConfig', 'LandSlope',\n",
        "        'Condition1', 'Condition2', 'BldgType', 'HouseStyle', 'RoofStyle', 'RoofMatl',\n",
        "        'Exterior1st', 'Exterior2nd', 'Foundation', 'Heating', 'CentralAir', 'Electrical',\n",
        "        'Functional', 'GarageType', 'GarageFinish', 'SaleType', 'SaleCondition'\n",
        "    ]\n",
        "    dataset = pd.get_dummies(dataset, columns=nominal_cols, drop_first=True)\n",
        "\n",
        "    ordinal_cols = [\n",
        "        'ExterCond', 'BsmtQual', 'BsmtCond', 'BsmtExposure', 'HeatingQC',\n",
        "        'FireplaceQu', 'GarageQual', 'GarageCond', 'PavedDrive'\n",
        "    ]\n",
        "\n",
        "    ordinal_mappings = {\n",
        "        'ExterCond': {'Ex': 5, 'Gd': 4, 'TA': 3, 'Fa': 2, 'Po': 1},\n",
        "        'BsmtQual': {'Ex': 5, 'Gd': 4, 'TA': 3, 'Fa': 2, 'Po': 1, 'NA': 0},\n",
        "        'BsmtCond': {'Ex': 5, 'Gd': 4, 'TA': 3, 'Fa': 2, 'Po': 1, 'NA': 0},\n",
        "        'BsmtExposure': {'Gd': 4, 'Av': 3, 'Mn': 2, 'No': 1, 'NA': 0},\n",
        "        'HeatingQC': {'Ex': 5, 'Gd': 4, 'TA': 3, 'Fa': 2, 'Po': 1},\n",
        "        'FireplaceQu': {'Ex': 5, 'Gd': 4, 'TA': 3, 'Fa': 2, 'Po': 1, 'NA': 0},\n",
        "        'GarageQual': {'Ex': 5, 'Gd': 4, 'TA': 3, 'Fa': 2, 'Po': 1, 'NA': 0},\n",
        "        'GarageCond': {'Ex': 5, 'Gd': 4, 'TA': 3, 'Fa': 2, 'Po': 1, 'NA': 0},\n",
        "        'PavedDrive': {'Y': 2, 'P': 1, 'N': 0}\n",
        "    }\n",
        "\n",
        "    for col in ordinal_cols:\n",
        "        if col in dataset.columns:\n",
        "            dataset[col] = dataset[col].map(ordinal_mappings[col])\n",
        "\n",
        "    bool_cols = dataset.select_dtypes(include=['bool']).columns\n",
        "    dataset[bool_cols] = dataset[bool_cols].astype(int)\n",
        "\n",
        "    return dataset"
      ]
    },
    {
      "cell_type": "markdown",
      "metadata": {
        "id": "fxPV7P7jeQv_"
      },
      "source": [
        "### Feature Scaling"
      ]
    },
    {
      "cell_type": "code",
      "execution_count": 17,
      "metadata": {
        "id": "rUCKjhZ7CtX7"
      },
      "outputs": [],
      "source": [
        "def scale_features(dataset):\n",
        "    numerical_cols = dataset.select_dtypes(include=['float64', 'int64']).columns\n",
        "    scaler = RobustScaler()\n",
        "    dataset[numerical_cols] = scaler.fit_transform(dataset[numerical_cols])\n",
        "    return dataset"
      ]
    },
    {
      "cell_type": "markdown",
      "metadata": {
        "id": "b8VVbZW_ejnu"
      },
      "source": [
        "### Saving the scaled dataset to csv file"
      ]
    },
    {
      "cell_type": "code",
      "execution_count": 18,
      "metadata": {
        "id": "0Kz8svlsC3uw"
      },
      "outputs": [],
      "source": [
        "def save_to_csv(dataset, filename=\"/content/drive/My Drive/Machine Learning/scaled_dataset.csv\"):\n",
        "    dataset.to_csv(filename, index=False)\n",
        "    print(f\"Dataset saved to {filename}\")"
      ]
    },
    {
      "cell_type": "markdown",
      "metadata": {
        "id": "b3JPtCAZDL0R"
      },
      "source": [
        "###Run Pipeline\n"
      ]
    },
    {
      "cell_type": "code",
      "execution_count": 19,
      "metadata": {
        "id": "3hrN2KGXDKAP"
      },
      "outputs": [],
      "source": [
        "def run_pipeline(dataset):\n",
        "    dataset = check_non_finite(dataset)\n",
        "    dataset = replace_non_finite(dataset)\n",
        "    dataset = check_duplicates(dataset)\n",
        "    dataset = display_null_counts(dataset)\n",
        "    dataset = create_features(dataset)\n",
        "    dataset = map_features(dataset)\n",
        "    dataset = drop_features(dataset)\n",
        "    dataset = encode_categorical(dataset)\n",
        "    dataset = scale_features(dataset)\n",
        "    #dataset.to_csv(\"scaled_dataset.csv\", index=False)\n",
        "    return dataset"
      ]
    },
    {
      "cell_type": "code",
      "execution_count": 20,
      "metadata": {
        "colab": {
          "base_uri": "https://localhost:8080/"
        },
        "collapsed": true,
        "id": "uty2B5V-Nwsn",
        "outputId": "2787d49b-51fc-4dc4-dc06-4941769b10d5"
      },
      "outputs": [
        {
          "output_type": "stream",
          "name": "stdout",
          "text": [
            "Non-finite values in each column:\n",
            "BsmtQual         37\n",
            "BsmtCond         37\n",
            "BsmtExposure     37\n",
            "BsmtFinType1     37\n",
            "BsmtFinType2     37\n",
            "FireplaceQu     690\n",
            "GarageType       81\n",
            "GarageFinish     81\n",
            "GarageQual       81\n",
            "GarageCond       81\n",
            "dtype: int64\n",
            "<class 'pandas.core.frame.DataFrame'>\n",
            "RangeIndex: 1460 entries, 0 to 1459\n",
            "Data columns (total 75 columns):\n",
            " #   Column         Non-Null Count  Dtype  \n",
            "---  ------         --------------  -----  \n",
            " 0   MSSubClass     1460 non-null   int64  \n",
            " 1   MSZoning       1460 non-null   object \n",
            " 2   LotFrontage    1460 non-null   float64\n",
            " 3   LotArea        1460 non-null   float64\n",
            " 4   Street         1460 non-null   object \n",
            " 5   LotShape       1460 non-null   object \n",
            " 6   LandContour    1460 non-null   object \n",
            " 7   Utilities      1460 non-null   object \n",
            " 8   LotConfig      1460 non-null   object \n",
            " 9   LandSlope      1460 non-null   object \n",
            " 10  Neighborhood   1460 non-null   object \n",
            " 11  Condition1     1460 non-null   object \n",
            " 12  Condition2     1460 non-null   object \n",
            " 13  BldgType       1460 non-null   object \n",
            " 14  HouseStyle     1460 non-null   object \n",
            " 15  OverallQual    1460 non-null   int64  \n",
            " 16  OverallCond    1460 non-null   int64  \n",
            " 17  YearBuilt      1460 non-null   int64  \n",
            " 18  YearRemodAdd   1460 non-null   int64  \n",
            " 19  RoofStyle      1460 non-null   object \n",
            " 20  RoofMatl       1460 non-null   object \n",
            " 21  Exterior1st    1460 non-null   object \n",
            " 22  Exterior2nd    1460 non-null   object \n",
            " 23  MasVnrArea     1460 non-null   float64\n",
            " 24  ExterQual      1460 non-null   object \n",
            " 25  ExterCond      1460 non-null   object \n",
            " 26  Foundation     1460 non-null   object \n",
            " 27  BsmtQual       1423 non-null   object \n",
            " 28  BsmtCond       1423 non-null   object \n",
            " 29  BsmtExposure   1423 non-null   object \n",
            " 30  BsmtFinType1   1423 non-null   object \n",
            " 31  BsmtFinSF1     1460 non-null   float64\n",
            " 32  BsmtFinType2   1423 non-null   object \n",
            " 33  BsmtFinSF2     1460 non-null   int64  \n",
            " 34  BsmtUnfSF      1460 non-null   float64\n",
            " 35  TotalBsmtSF    1460 non-null   int64  \n",
            " 36  Heating        1460 non-null   object \n",
            " 37  HeatingQC      1460 non-null   object \n",
            " 38  CentralAir     1460 non-null   object \n",
            " 39  Electrical     1460 non-null   object \n",
            " 40  1stFlrSF       1460 non-null   int64  \n",
            " 41  2ndFlrSF       1460 non-null   int64  \n",
            " 42  LowQualFinSF   1460 non-null   int64  \n",
            " 43  GrLivArea      1460 non-null   float64\n",
            " 44  BsmtFullBath   1460 non-null   int64  \n",
            " 45  BsmtHalfBath   1460 non-null   int64  \n",
            " 46  FullBath       1460 non-null   int64  \n",
            " 47  HalfBath       1460 non-null   int64  \n",
            " 48  BedroomAbvGr   1460 non-null   int64  \n",
            " 49  KitchenAbvGr   1460 non-null   int64  \n",
            " 50  KitchenQual    1460 non-null   object \n",
            " 51  TotRmsAbvGrd   1460 non-null   int64  \n",
            " 52  Functional     1460 non-null   object \n",
            " 53  Fireplaces     1460 non-null   float64\n",
            " 54  FireplaceQu    770 non-null    object \n",
            " 55  GarageType     1379 non-null   object \n",
            " 56  GarageYrBlt    1460 non-null   int64  \n",
            " 57  GarageFinish   1379 non-null   object \n",
            " 58  GarageCars     1460 non-null   float64\n",
            " 59  GarageArea     1460 non-null   float64\n",
            " 60  GarageQual     1379 non-null   object \n",
            " 61  GarageCond     1379 non-null   object \n",
            " 62  PavedDrive     1460 non-null   object \n",
            " 63  WoodDeckSF     1460 non-null   int64  \n",
            " 64  OpenPorchSF    1460 non-null   int64  \n",
            " 65  EnclosedPorch  1460 non-null   int64  \n",
            " 66  3SsnPorch      1460 non-null   int64  \n",
            " 67  ScreenPorch    1460 non-null   int64  \n",
            " 68  PoolArea       1460 non-null   int64  \n",
            " 69  MiscVal        1460 non-null   int64  \n",
            " 70  MoSold         1460 non-null   int64  \n",
            " 71  YrSold         1460 non-null   int64  \n",
            " 72  SaleType       1460 non-null   object \n",
            " 73  SaleCondition  1460 non-null   object \n",
            " 74  SalePrice      1460 non-null   float64\n",
            "dtypes: float64(10), int64(27), object(38)\n",
            "memory usage: 855.6+ KB\n",
            "Non-finite values in each column:\n",
            "Series([], dtype: int64)\n",
            "Number of duplicate rows: 0\n",
            "Number of null values per column:\n",
            "MSSubClass       0\n",
            "MSZoning         0\n",
            "LotFrontage      0\n",
            "LotArea          0\n",
            "Street           0\n",
            "                ..\n",
            "MoSold           0\n",
            "YrSold           0\n",
            "SaleType         0\n",
            "SaleCondition    0\n",
            "SalePrice        0\n",
            "Length: 75, dtype: int64\n"
          ]
        }
      ],
      "source": [
        "dataset = run_pipeline(dataset)"
      ]
    },
    {
      "cell_type": "code",
      "execution_count": 21,
      "metadata": {
        "colab": {
          "base_uri": "https://localhost:8080/"
        },
        "collapsed": true,
        "id": "VEfAJAC1GX6D",
        "outputId": "449cf096-b913-48dc-f5dc-d8e9517d99f8"
      },
      "outputs": [
        {
          "output_type": "stream",
          "name": "stdout",
          "text": [
            "<class 'pandas.core.frame.DataFrame'>\n",
            "RangeIndex: 1460 entries, 0 to 1459\n",
            "Columns: 171 entries, MSSubClass to SaleCondition_Partial\n",
            "dtypes: float64(171)\n",
            "memory usage: 1.9 MB\n"
          ]
        }
      ],
      "source": [
        "dataset.info()"
      ]
    },
    {
      "cell_type": "code",
      "execution_count": 22,
      "metadata": {
        "colab": {
          "base_uri": "https://localhost:8080/"
        },
        "id": "GFgZfRSBLD5p",
        "outputId": "eb0d6c67-08b3-49c2-af0b-3235c4008d53"
      },
      "outputs": [
        {
          "output_type": "stream",
          "name": "stdout",
          "text": [
            "   MSSubClass  LotFrontage   LotArea  OverallCond  YearBuilt  YearRemodAdd  \\\n",
            "0         0.2    -0.257516 -0.267660          0.0   0.652174      0.243243   \n",
            "1        -0.6     0.464671  0.029682          3.0   0.065217     -0.486486   \n",
            "2         0.2    -0.100761  0.399288          0.0   0.608696      0.216216   \n",
            "3         0.4    -0.535329  0.017513          0.0  -1.260870     -0.648649   \n",
            "4         0.2     0.634651  0.951802          0.0   0.586957      0.162162   \n",
            "\n",
            "   MasVnrArea  ExterCond  BsmtQual  BsmtCond  ...  SaleType_ConLI  \\\n",
            "0    1.193303        0.0       0.0       0.0  ...             0.0   \n",
            "1    0.000000        0.0       0.0       0.0  ...             0.0   \n",
            "2    0.986301        0.0       0.0       0.0  ...             0.0   \n",
            "3    0.000000        0.0      -1.0       1.0  ...             0.0   \n",
            "4    2.130898        0.0       0.0       0.0  ...             0.0   \n",
            "\n",
            "   SaleType_ConLw  SaleType_New  SaleType_Oth  SaleType_WD  \\\n",
            "0             0.0           0.0           0.0          0.0   \n",
            "1             0.0           0.0           0.0          0.0   \n",
            "2             0.0           0.0           0.0          0.0   \n",
            "3             0.0           0.0           0.0          0.0   \n",
            "4             0.0           0.0           0.0          0.0   \n",
            "\n",
            "   SaleCondition_AdjLand  SaleCondition_Alloca  SaleCondition_Family  \\\n",
            "0                    0.0                   0.0                   0.0   \n",
            "1                    0.0                   0.0                   0.0   \n",
            "2                    0.0                   0.0                   0.0   \n",
            "3                    0.0                   0.0                   0.0   \n",
            "4                    0.0                   0.0                   0.0   \n",
            "\n",
            "   SaleCondition_Normal  SaleCondition_Partial  \n",
            "0                   0.0                    0.0  \n",
            "1                   0.0                    0.0  \n",
            "2                   0.0                    0.0  \n",
            "3                  -1.0                    0.0  \n",
            "4                   0.0                    0.0  \n",
            "\n",
            "[5 rows x 171 columns]\n"
          ]
        }
      ],
      "source": [
        "print(dataset.head())"
      ]
    },
    {
      "cell_type": "markdown",
      "metadata": {
        "id": "PwnQ2bftgrBu"
      },
      "source": [
        "## Feature Selection"
      ]
    },
    {
      "cell_type": "markdown",
      "metadata": {
        "id": "Z-eR8yBBgzaR"
      },
      "source": [
        "### 1.PCA/LDA + Recursive Feature Elimination\n",
        "PCA is used to reduce the dimensionality of the dataset while retaining most of the variance in the data. Recursive Feature Elimination (RFE) to select the most important features. (wrapper method)"
      ]
    },
    {
      "cell_type": "code",
      "execution_count": 23,
      "metadata": {
        "colab": {
          "base_uri": "https://localhost:8080/"
        },
        "id": "8dN4KTjjgqQF",
        "outputId": "894e934c-99a7-476e-fabd-89344c9e7413"
      },
      "outputs": [
        {
          "output_type": "stream",
          "name": "stdout",
          "text": [
            "Original number of features: 168\n",
            "Reduced number of features after PCA: 16\n",
            "Selected features mask: [False  True False False False  True False  True False False  True False\n",
            " False  True False False]\n",
            "Mean Squared Error: 0.17922204116117627\n"
          ]
        }
      ],
      "source": [
        "import pandas as pd\n",
        "from sklearn.decomposition import PCA\n",
        "from sklearn.linear_model import LinearRegression\n",
        "from sklearn.feature_selection import RFE\n",
        "from sklearn.model_selection import train_test_split\n",
        "from sklearn.metrics import mean_squared_error\n",
        "\n",
        "# Load the dataset\n",
        "data = pd.read_csv('/content/drive/MyDrive/Machine Learning/scaled_dataset.csv')\n",
        "\n",
        "# Separate features and target\n",
        "X = data.drop('SalePrice', axis=1)  # Features (all columns except 'SalePrice')\n",
        "y = data['SalePrice']  # Target variable\n",
        "\n",
        "# Step 1: Apply PCA\n",
        "pca = PCA(n_components=0.95)  # Retain 95% of the variance\n",
        "X_pca = pca.fit_transform(X)  # Apply PCA to the already scaled data\n",
        "\n",
        "print(f\"Original number of features: {X.shape[1]}\")\n",
        "print(f\"Reduced number of features after PCA: {X_pca.shape[1]}\")\n",
        "\n",
        "# Step 2: Apply Recursive Feature Elimination (RFE)\n",
        "model = LinearRegression()  # Initialize Linear Regression model\n",
        "rfe = RFE(estimator=model, n_features_to_select=5)  # Select top 5 features\n",
        "X_rfe = rfe.fit_transform(X_pca, y)  # Fit RFE and transform the PCA-transformed data\n",
        "\n",
        "# Get the selected features\n",
        "selected_features = rfe.support_  # Boolean mask of selected features\n",
        "print(f\"Selected features mask: {selected_features}\")\n",
        "\n",
        "# Step 3: Train and evaluate the model\n",
        "X_train, X_test, y_train, y_test = train_test_split(X_rfe, y, test_size=0.2, random_state=42)\n",
        "model.fit(X_train, y_train)  # Train the Linear Regression model\n",
        "y_pred = model.predict(X_test)  # Make predictions\n",
        "\n",
        "# Evaluate the model\n",
        "mse = mean_squared_error(y_test, y_pred)\n",
        "print(f\"Mean Squared Error: {mse}\")"
      ]
    },
    {
      "cell_type": "markdown",
      "metadata": {
        "id": "AyXQsCLPiQQZ"
      },
      "source": [
        "### 2. Hybrid Mutual Information and Genetic Algorithm Feature Selection.\n",
        "Mutual Information is a filter-based feature selection technique.\n",
        "It evaluates the relevance of features independently of the model and ranks them based on their statistical relationship with the target variable.\n",
        "Genetic Algorithms are wrapper-based feature selection techniques.\n",
        "They evaluate feature subsets by training a model and measuring its performance ( MSE)."
      ]
    },
    {
      "cell_type": "code",
      "execution_count": 24,
      "metadata": {
        "colab": {
          "base_uri": "https://localhost:8080/"
        },
        "id": "SXQx0lQBhzoY",
        "outputId": "e2c26589-eb29-4dbc-8201-bd6592d141b6"
      },
      "outputs": [
        {
          "output_type": "stream",
          "name": "stdout",
          "text": [
            "gen\tnevals\tavg    \tmin    \n",
            "0  \t50    \t22086.6\t6592.02\n",
            "1  \t27    \t17227.8\t2235.62\n",
            "2  \t26    \t12355.2\t5129.57\n",
            "3  \t23    \t9170.99\t5160.46\n",
            "4  \t28    \t6963.3 \t1580.62\n",
            "5  \t31    \t5130.68\t36.8609\n",
            "6  \t30    \t4879.07\t487.067\n",
            "7  \t25    \t3610.88\t478.861\n",
            "8  \t29    \t2085.79\t37.1913\n",
            "9  \t27    \t1021.48\t37.1913\n",
            "10 \t31    \t1556.96\t30.9858\n",
            "11 \t26    \t524.954\t30.9858\n",
            "12 \t35    \t429.057\t30.9249\n",
            "13 \t32    \t495.913\t30.7739\n",
            "14 \t31    \t447.508\t30.7739\n",
            "15 \t29    \t639.938\t30.7574\n",
            "16 \t29    \t683.341\t30.5099\n",
            "17 \t31    \t806.778\t30.5099\n",
            "18 \t26    \t62.0443\t0.0114002\n",
            "19 \t23    \t357.895\t0.0114002\n",
            "20 \t34    \t911.025\t0.0114002\n",
            "Selected Features: [0, 1, 2, 4, 6, 10, 11, 12, 13, 15, 17, 18]\n",
            "Mean Squared Error (MSE): 0.011400184009153774\n"
          ]
        }
      ],
      "source": [
        "# Step 1: Generate a synthetic dataset\n",
        "X, y = make_regression(n_samples=1000, n_features=20, n_informative=10, noise=0.1, random_state=42)\n",
        "X_train, X_test, y_train, y_test = train_test_split(X, y, test_size=0.2, random_state=42)\n",
        "\n",
        "# Step 2: Calculate Mutual Information\n",
        "mi_scores = mutual_info_regression(X_train, y_train)\n",
        "mi_scores /= np.max(mi_scores)  # Normalize MI scores\n",
        "\n",
        "# Step 3: Define the Genetic Algorithm\n",
        "# Fitness function to minimize MSE\n",
        "def evaluate_feature_subset(individual):\n",
        "    selected_features = [i for i, val in enumerate(individual) if val == 1]\n",
        "    if not selected_features:\n",
        "        return (1e6,)  # Penalize empty feature subsets\n",
        "    X_train_subset = X_train[:, selected_features]\n",
        "    X_test_subset = X_test[:, selected_features]\n",
        "    model = LinearRegression()\n",
        "    model.fit(X_train_subset, y_train)\n",
        "    y_pred = model.predict(X_test_subset)\n",
        "    mse = mean_squared_error(y_test, y_pred)\n",
        "    return (mse,)\n",
        "\n",
        "# Genetic Algorithm setup\n",
        "creator.create(\"FitnessMin\", base.Fitness, weights=(-1.0,))\n",
        "creator.create(\"Individual\", list, fitness=creator.FitnessMin)\n",
        "\n",
        "toolbox = base.Toolbox()\n",
        "toolbox.register(\"attr_bool\", random.randint, 0, 1)\n",
        "toolbox.register(\"individual\", tools.initRepeat, creator.Individual, toolbox.attr_bool, n=X.shape[1])\n",
        "toolbox.register(\"population\", tools.initRepeat, list, toolbox.individual)\n",
        "\n",
        "toolbox.register(\"evaluate\", evaluate_feature_subset)\n",
        "toolbox.register(\"mate\", tools.cxTwoPoint)\n",
        "toolbox.register(\"mutate\", tools.mutFlipBit, indpb=0.05)\n",
        "toolbox.register(\"select\", tools.selTournament, tournsize=3)\n",
        "\n",
        "# Adaptive parameters\n",
        "def adaptive_parameters(population):\n",
        "    for ind in population:\n",
        "        if random.random() < 0.1:  # 10% chance to adapt\n",
        "            ind.mutation_rate = min(max(ind.mutation_rate + random.uniform(-0.1, 0.1)), 0.01, 0.5)\n",
        "        else:\n",
        "            ind.mutation_rate = 0.05  # Default mutation rate\n",
        "\n",
        "# Step 4: Run the Genetic Algorithm\n",
        "population = toolbox.population(n=50)\n",
        "hof = tools.HallOfFame(1)\n",
        "stats = tools.Statistics(lambda ind: ind.fitness.values)\n",
        "stats.register(\"avg\", np.mean)\n",
        "stats.register(\"min\", np.min)\n",
        "\n",
        "population, logbook = algorithms.eaSimple(\n",
        "    population, toolbox, cxpb=0.5, mutpb=0.2, ngen=20, stats=stats, halloffame=hof, verbose=True\n",
        ")\n",
        "\n",
        "# Step 5: Get the best feature subset\n",
        "best_individual = hof[0]\n",
        "selected_features = [i for i, val in enumerate(best_individual) if val == 1]\n",
        "print(f\"Selected Features: {selected_features}\")\n",
        "\n",
        "# Step 6: Train and evaluate the model with the selected features\n",
        "X_train_subset = X_train[:, selected_features]\n",
        "X_test_subset = X_test[:, selected_features]\n",
        "model = LinearRegression()\n",
        "model.fit(X_train_subset, y_train)\n",
        "y_pred = model.predict(X_test_subset)\n",
        "mse = mean_squared_error(y_test, y_pred)\n",
        "print(f\"Mean Squared Error (MSE): {mse}\")"
      ]
    },
    {
      "cell_type": "markdown",
      "metadata": {
        "id": "kBawqbjZlLbP"
      },
      "source": [
        "### 3. Filter method + wrapper method + embdedd method\n",
        "**Filter method (Mutual Information)** Selects features based on their statistical relationship with the target variable. Reduces the feature set to the top 40 features based on mutual information scores. <br><br>\n",
        "**Wrapper Method (Recursive Feature Elimination - RFE) ** Selects features by recursively eliminating the least important features based on a model's performance, Reduces the feature set to the top 20 features based on recursive elimination. <br><br>\n",
        "**Embedded Method (Lasso Regression)** Uses Lasso regression to select features by penalizing less important features (shrinking their coefficients to zero). Further reduces the feature set to the most important features identified by Lasso."
      ]
    },
    {
      "cell_type": "code",
      "execution_count": 26,
      "metadata": {
        "colab": {
          "base_uri": "https://localhost:8080/"
        },
        "id": "DPbij98wlKvt",
        "outputId": "ac3ebe65-fd40-4330-dc12-88869a3b28d2"
      },
      "outputs": [
        {
          "output_type": "stream",
          "name": "stdout",
          "text": [
            "MSE after Pipeline: 0.0046\n",
            "Filter Selected Features: ['MSSubClass', 'YearBuilt', 'YearRemodAdd', 'MasVnrArea', 'BsmtQual', 'BsmtExposure', 'BsmtUnfSF', '2ndFlrSF', 'KitchenAbvGr', 'GarageYrBlt', 'GarageCars', 'SalePrice', 'TotalBath', 'HouseAge', 'TotalSqFt', 'HasGarage', 'QualitySize', 'TotalBsmtFinScore', 'BsmtFinRatio', 'NeighborhoodQuality', 'ExterQual_ordinal', 'KitchenQual_ordinal', 'HeatingQC_ordinal', 'MSZoning_FV', 'LotShape_Reg', 'LandContour_Lvl', 'LotConfig_FR2', 'Condition1_RRNn', 'Condition2_RRAe', 'Exterior1st_VinylSd', 'Exterior1st_WdShing', 'Exterior2nd_MetalSd', 'Exterior2nd_VinylSd', 'Foundation_CBlock', 'Foundation_PConc', 'Functional_Maj2', 'Functional_Min2', 'SaleType_New', 'SaleType_WD', 'SaleCondition_Normal']\n",
            "Wrapper Selected Features: ['BsmtUnfSF', 'KitchenAbvGr', 'GarageCars', 'HasGarage', 'QualitySize', 'TotalBsmtFinScore', 'BsmtFinRatio', 'NeighborhoodQuality', 'MSZoning_FV', 'LotShape_Reg', 'LandContour_Lvl', 'LotConfig_FR2', 'Condition1_RRNn', 'Condition2_RRAe', 'Exterior1st_VinylSd', 'Exterior2nd_VinylSd', 'Functional_Min2', 'SaleType_New', 'SaleType_WD', 'SaleCondition_Normal']\n",
            "Embedded Selected Features: ['BsmtUnfSF', 'KitchenAbvGr', 'GarageCars', 'HasGarage', 'QualitySize', 'TotalBsmtFinScore', 'BsmtFinRatio', 'NeighborhoodQuality', 'MSZoning_FV', 'LotShape_Reg', 'LandContour_Lvl', 'LotConfig_FR2', 'Condition1_RRNn', 'Condition2_RRAe', 'Exterior1st_VinylSd', 'Exterior2nd_VinylSd', 'Functional_Min2', 'SaleType_New', 'SaleType_WD', 'SaleCondition_Normal']\n",
            "Final Selected Feature Count: 20\n"
          ]
        }
      ],
      "source": [
        "import pandas as pd\n",
        "import numpy as np\n",
        "from sklearn.model_selection import train_test_split\n",
        "from sklearn.feature_selection import SelectKBest, mutual_info_regression, RFE\n",
        "from sklearn.linear_model import LinearRegression, Lasso\n",
        "from sklearn.metrics import mean_squared_error\n",
        "from sklearn.pipeline import Pipeline\n",
        "from sklearn.compose import ColumnTransformer\n",
        "from sklearn.base import BaseEstimator, TransformerMixin\n",
        "\n",
        "# Custom Transformer for Lasso Feature Selection\n",
        "class LassoFeatureSelector(BaseEstimator, TransformerMixin):\n",
        "    def __init__(self, min_features=20):\n",
        "        self.min_features = min_features\n",
        "        self.important_features = None\n",
        "\n",
        "    def fit(self, X, y):\n",
        "        alpha = 0.001  # Start with a small alpha\n",
        "        while True:\n",
        "            lasso = Lasso(alpha=alpha)\n",
        "            lasso.fit(X, y)\n",
        "\n",
        "            self.important_features = np.where(lasso.coef_ != 0)[0]\n",
        "            if len(self.important_features) >= self.min_features:\n",
        "                break  # Stop when we have at least `min_features`\n",
        "            alpha *= 0.5  # Reduce alpha to be less aggressive in feature elimination\n",
        "        return self\n",
        "\n",
        "    def transform(self, X):\n",
        "        return X[:, self.important_features]\n",
        "\n",
        "# Load dataset\n",
        "dataset_path = '/content/drive/MyDrive/Machine Learning/scaled_dataset.csv'\n",
        "df = pd.read_csv(dataset_path)\n",
        "\n",
        "X = df.iloc[:, :-1]  # Features\n",
        "y = df.iloc[:, -1]   # Target\n",
        "\n",
        "# Split data into training and testing sets\n",
        "X_train_val, X_test, y_train_val, y_test = train_test_split(X, y, test_size=0.3, random_state=42)\n",
        "\n",
        "# Define the pipeline\n",
        "pipeline = Pipeline([\n",
        "    ('filter_method', SelectKBest(score_func=mutual_info_regression, k=40)),  # Step 1: Filter Method\n",
        "    ('wrapper_method', RFE(LinearRegression(), n_features_to_select=20)),      # Step 2: Wrapper Method\n",
        "    ('embedded_method', LassoFeatureSelector(min_features=20)),               # Step 3: Embedded Method\n",
        "    ('regressor', LinearRegression())                                        # Final Regression Model\n",
        "])\n",
        "\n",
        "# Fit the pipeline\n",
        "pipeline.fit(X_train_val, y_train_val)\n",
        "\n",
        "# Predict on the test set\n",
        "y_pred = pipeline.predict(X_test)\n",
        "\n",
        "# Calculate MSE\n",
        "mse = mean_squared_error(y_test, y_pred)\n",
        "print(f\"MSE after Pipeline: {mse:.4f}\")\n",
        "\n",
        "# Extract selected features from each step\n",
        "filter_features = X.columns[pipeline.named_steps['filter_method'].get_support()].tolist()\n",
        "wrapper_support = pipeline.named_steps['wrapper_method'].support_\n",
        "wrapper_features = [filter_features[i] for i in range(len(filter_features)) if wrapper_support[i]]\n",
        "embedded_features = [wrapper_features[i] for i in pipeline.named_steps['embedded_method'].important_features]\n",
        "\n",
        "print(\"Filter Selected Features:\", filter_features)\n",
        "print(\"Wrapper Selected Features:\", wrapper_features)\n",
        "print(\"Embedded Selected Features:\", embedded_features)\n",
        "print(\"Final Selected Feature Count:\", len(embedded_features))"
      ]
    },
    {
      "cell_type": "markdown",
      "source": [
        "## Saving feature selection pipeline (method with the lowest MSE) to drive"
      ],
      "metadata": {
        "id": "1AKbqdSz7idE"
      }
    },
    {
      "cell_type": "code",
      "source": [
        "import joblib\n",
        "\n",
        "# Save the pipeline to a file\n",
        "pipeline_file = '/content/drive/MyDrive/Machine Learning/Selection_pipeline.joblib'\n",
        "# Save the pipeline to Google Drive\n",
        "joblib.dump(pipeline, pipeline_file)\n",
        "print(f\"Pipeline saved to {pipeline_file}\")"
      ],
      "metadata": {
        "colab": {
          "base_uri": "https://localhost:8080/"
        },
        "id": "nUjbBGpB7rEu",
        "outputId": "45eda773-188b-4e4e-acbd-13ee599b052c"
      },
      "execution_count": 27,
      "outputs": [
        {
          "output_type": "stream",
          "name": "stdout",
          "text": [
            "Pipeline saved to /content/drive/MyDrive/Machine Learning/Selection_pipeline.joblib\n"
          ]
        }
      ]
    },
    {
      "cell_type": "markdown",
      "metadata": {
        "id": "No_7YZwngtDn"
      },
      "source": [
        "## Model Training and visuzalization"
      ]
    },
    {
      "cell_type": "code",
      "execution_count": 28,
      "metadata": {
        "colab": {
          "base_uri": "https://localhost:8080/",
          "height": 1000
        },
        "id": "dk4ntFYGrg8h",
        "outputId": "cbaf1b5d-d64c-475f-947e-093737cda073"
      },
      "outputs": [
        {
          "output_type": "stream",
          "name": "stdout",
          "text": [
            "\n",
            "Model Performance on Validation Set (K-Fold CV):\n",
            "Linear Regression:\n",
            "  MAE: 0.0107\n",
            "  MSE: 0.0015\n",
            "  RMSE: 0.0333\n",
            "  R2 Score: 0.9802\n",
            "\n",
            "Polynomial Regression (Degree=2):\n",
            "  MAE: 0.0518\n",
            "  MSE: 0.0194\n",
            "  RMSE: 0.1367\n",
            "  R2 Score: 0.7340\n",
            "\n",
            "Ridge Regression:\n",
            "  MAE: 0.0130\n",
            "  MSE: 0.0013\n",
            "  RMSE: 0.0309\n",
            "  R2 Score: 0.9826\n",
            "\n",
            "Lasso Regression:\n",
            "  MAE: 0.1527\n",
            "  MSE: 0.0765\n",
            "  RMSE: 0.2751\n",
            "  R2 Score: -0.0082\n",
            "\n",
            "Best Model Before Tuning: Ridge Regression\n",
            "\n",
            "\n",
            "Model Performance After Tuning:\n",
            "Ridge Regression (Training Set):\n",
            "  MAE: 0.0100\n",
            "  MSE: 0.0008\n",
            "  RMSE: 0.0284\n",
            "  R2 Score: 0.9895\n",
            "\n",
            "Ridge Regression (Test Set):\n",
            "  MAE: 0.0148\n",
            "  MSE: 0.0046\n",
            "  RMSE: 0.0681\n",
            "  R2 Score: 0.9442\n",
            "\n",
            "Best Parameters: {'alpha': 1}\n"
          ]
        },
        {
          "output_type": "display_data",
          "data": {
            "text/plain": [
              "<Figure size 1000x600 with 1 Axes>"
            ],
            "image/png": "[encoded data removed]"
          },
          "metadata": {}
        },
        {
          "output_type": "display_data",
          "data": {
            "text/plain": [
              "<Figure size 1000x600 with 1 Axes>"
            ],
            "image/png": "[encoded data removed]"
          },
          "metadata": {}
        }
      ],
      "source": [
        "import pandas as pd\n",
        "import numpy as np\n",
        "import matplotlib.pyplot as plt\n",
        "from sklearn.model_selection import KFold, train_test_split, GridSearchCV, learning_curve\n",
        "from sklearn.linear_model import LinearRegression, Ridge, Lasso\n",
        "from sklearn.preprocessing import PolynomialFeatures\n",
        "from sklearn.pipeline import make_pipeline\n",
        "from sklearn.metrics import mean_absolute_error, mean_squared_error, r2_score\n",
        "\n",
        "# Load dataset (selected features)\n",
        "df = embedded_features\n",
        "\n",
        "#X = df.iloc[:, :-1]  # Features\n",
        "#y = df.iloc[:, -1]   # Target\n",
        "\n",
        "#X_train_val, X_test, y_train_val, y_test = train_test_split(X, y, test_size=0.3, random_state=42)\n",
        "\n",
        "# K-Fold Cross-Validation (Validation set is selected in each fold)\n",
        "kf = KFold(n_splits=5, shuffle=True, random_state=42)\n",
        "\n",
        "# Define models\n",
        "models = {\n",
        "    \"Linear Regression\": LinearRegression(),\n",
        "    \"Polynomial Regression (Degree=2)\": make_pipeline(PolynomialFeatures(2), LinearRegression()),\n",
        "    \"Ridge Regression\": Ridge(),\n",
        "    \"Lasso Regression\": Lasso()\n",
        "}\n",
        "\n",
        "# Train and evaluate models using K-Fold Cross-Validation\n",
        "results = {}\n",
        "for name, model in models.items():\n",
        "    mae_list, mse_list, rmse_list, r2_list = [], [], [], []\n",
        "\n",
        "    for train_idx, val_idx in kf.split(X_train_val):\n",
        "        X_train, X_val = X_train_val.iloc[train_idx], X_train_val.iloc[val_idx]\n",
        "        y_train, y_val = y_train_val.iloc[train_idx], y_train_val.iloc[val_idx]\n",
        "\n",
        "        model.fit(X_train, y_train)\n",
        "        y_pred = model.predict(X_val)\n",
        "\n",
        "        mae_list.append(mean_absolute_error(y_val, y_pred))\n",
        "        mse_list.append(mean_squared_error(y_val, y_pred))\n",
        "        rmse_list.append(np.sqrt(mse_list[-1]))\n",
        "        r2_list.append(r2_score(y_val, y_pred))\n",
        "\n",
        "    results[name] = (np.mean(mae_list), np.mean(mse_list), np.mean(rmse_list), np.mean(r2_list))\n",
        "\n",
        "# Display results\n",
        "print(\"\\nModel Performance on Validation Set (K-Fold CV):\")\n",
        "for name, (mae, mse, rmse, r2) in results.items():\n",
        "    print(f\"{name}:\\n  MAE: {mae:.4f}\\n  MSE: {mse:.4f}\\n  RMSE: {rmse:.4f}\\n  R2 Score: {r2:.4f}\\n\")\n",
        "\n",
        "# Select best model (highest average R2 score)\n",
        "best_model_name = max(results, key=lambda x: results[x][3])\n",
        "best_model = models[best_model_name]\n",
        "print(f\"Best Model Before Tuning: {best_model_name}\\n\")\n",
        "\n",
        "# Hyperparameter tuning for the best model\n",
        "if isinstance(best_model, Ridge) or isinstance(best_model, Lasso):\n",
        "    param_grid = {\"alpha\": [0.01, 0.1, 1, 10, 100]}\n",
        "elif \"Polynomial\" in best_model_name:\n",
        "    param_grid = {\"polynomialfeatures__degree\": [2, 3, 4]}\n",
        "else:\n",
        "    param_grid = {}\n",
        "\n",
        "if param_grid:\n",
        "    grid_search = GridSearchCV(best_model, param_grid, cv=5, scoring='r2')\n",
        "    grid_search.fit(X_train_val, y_train_val)\n",
        "    tuned_model = grid_search.best_estimator_\n",
        "\n",
        "    # Training Error\n",
        "    y_train_pred = tuned_model.predict(X_train_val)\n",
        "    train_mae = mean_absolute_error(y_train_val, y_train_pred)\n",
        "    train_mse = mean_squared_error(y_train_val, y_train_pred)\n",
        "    train_rmse = np.sqrt(train_mse)\n",
        "    train_r2 = r2_score(y_train_val, y_train_pred)\n",
        "\n",
        "    # Test Error\n",
        "    y_test_pred = tuned_model.predict(X_test)\n",
        "    test_mae = mean_absolute_error(y_test, y_test_pred)\n",
        "    test_mse = mean_squared_error(y_test, y_test_pred)\n",
        "    test_rmse = np.sqrt(test_mse)\n",
        "    test_r2 = r2_score(y_test, y_test_pred)\n",
        "\n",
        "    print(\"\\nModel Performance After Tuning:\")\n",
        "    print(f\"{best_model_name} (Training Set):\")\n",
        "    print(f\"  MAE: {train_mae:.4f}\\n  MSE: {train_mse:.4f}\\n  RMSE: {train_rmse:.4f}\\n  R2 Score: {train_r2:.4f}\\n\")\n",
        "\n",
        "    print(f\"{best_model_name} (Test Set):\")\n",
        "    print(f\"  MAE: {test_mae:.4f}\\n  MSE: {test_mse:.4f}\\n  RMSE: {test_rmse:.4f}\\n  R2 Score: {test_r2:.4f}\\n\")\n",
        "\n",
        "    print(f\"Best Parameters: {grid_search.best_params_}\")\n",
        "\n",
        "# ====================================================\n",
        "# 1. Vectorized Linear Regression Model with Gradient Descent\n",
        "# ====================================================\n",
        "\n",
        "class VectorizedLinearRegression:\n",
        "    def __init__(self, learning_rate=0.01, epochs=100):\n",
        "        self.learning_rate = learning_rate\n",
        "        self.epochs = epochs\n",
        "        self.weights = None\n",
        "        self.bias = None\n",
        "\n",
        "    def fit(self, X, y):\n",
        "        n_samples, n_features = X.shape\n",
        "        self.weights = np.zeros(n_features)\n",
        "        self.bias = 0\n",
        "\n",
        "        self.train_loss = []\n",
        "        self.val_loss = []\n",
        "\n",
        "        for epoch in range(self.epochs):\n",
        "            # Predictions\n",
        "            y_pred = np.dot(X, self.weights) + self.bias\n",
        "\n",
        "            # Compute gradients\n",
        "            dw = (1 / n_samples) * np.dot(X.T, (y_pred - y))\n",
        "            db = (1 / n_samples) * np.sum(y_pred - y)\n",
        "\n",
        "            # Update weights and bias\n",
        "            self.weights -= self.learning_rate * dw\n",
        "            self.bias -= self.learning_rate * db\n",
        "\n",
        "            # Track training loss\n",
        "            train_mse = mean_squared_error(y, y_pred)\n",
        "            self.train_loss.append(train_mse)\n",
        "\n",
        "            # Track validation loss (if validation set is provided)\n",
        "            if hasattr(self, 'X_val'):\n",
        "                y_val_pred = np.dot(self.X_val, self.weights) + self.bias\n",
        "                val_mse = mean_squared_error(self.y_val, y_val_pred)\n",
        "                self.val_loss.append(val_mse)\n",
        "\n",
        "    def predict(self, X):\n",
        "        return np.dot(X, self.weights) + self.bias\n",
        "\n",
        "# Prepare data for vectorized linear regression\n",
        "X_train, X_val, y_train, y_val = train_test_split(X_train_val, y_train_val, test_size=0.2, random_state=42)\n",
        "\n",
        "# Train vectorized linear regression\n",
        "vectorized_model = VectorizedLinearRegression(learning_rate=0.01, epochs=100)\n",
        "vectorized_model.X_val = X_val  # Pass validation set\n",
        "vectorized_model.y_val = y_val\n",
        "vectorized_model.fit(X_train, y_train)\n",
        "\n",
        "# Plot learning curve for vectorized model\n",
        "plt.figure(figsize=(10, 6))\n",
        "plt.plot(range(1, 101), vectorized_model.train_loss, label=\"Training Loss (MSE)\")\n",
        "plt.plot(range(1, 101), vectorized_model.val_loss, label=\"Validation Loss (MSE)\")\n",
        "plt.xlabel(\"Epochs\")\n",
        "plt.ylabel(\"Mean Squared Error (MSE)\")\n",
        "plt.title(\"Learning Curve (Vectorized Linear Regression)\")\n",
        "plt.legend()\n",
        "plt.grid()\n",
        "plt.show()\n",
        "\n",
        "# ====================================================\n",
        "# 2. Scikit-learn Learning Curve\n",
        "# ====================================================\n",
        "\n",
        "# Use the best model for learning curve\n",
        "train_sizes, train_scores, val_scores = learning_curve(\n",
        "    tuned_model, X_train_val, y_train_val, cv=5, scoring='neg_mean_squared_error', train_sizes=np.linspace(0.1, 1.0, 10)\n",
        ")\n",
        "\n",
        "# Convert scores to positive MSE\n",
        "train_scores_mse = -train_scores.mean(axis=1)\n",
        "val_scores_mse = -val_scores.mean(axis=1)\n",
        "\n",
        "# Plot learning curve\n",
        "plt.figure(figsize=(10, 6))\n",
        "plt.plot(train_sizes, train_scores_mse, label=\"Training Loss (MSE)\")\n",
        "plt.plot(train_sizes, val_scores_mse, label=\"Validation Loss (MSE)\")\n",
        "plt.xlabel(\"Training Set Size\")\n",
        "plt.ylabel(\"Mean Squared Error (MSE)\")\n",
        "plt.title(\"Learning Curve (Scikit-learn)\")\n",
        "plt.legend()\n",
        "plt.grid()\n",
        "plt.show()"
      ]
    }
  ],
  "metadata": {
    "colab": {
      "collapsed_sections": [
        "Fuuj4ZQOcpKQ",
        "S7hvzRpiczyW",
        "Qkuwj2NddLvx",
        "AvgkPvwLdixY",
        "ZSzr_jXWdgQb",
        "XOmA5_kAduxd"
      ],
      "provenance": []
    },
    "kernelspec": {
      "display_name": "Python 3",
      "name": "python3"
    },
    "language_info": {
      "codemirror_mode": {
        "name": "ipython",
        "version": 3
      },
      "file_extension": ".py",
      "mimetype": "text/x-python",
      "name": "python",
      "nbconvert_exporter": "python",
      "pygments_lexer": "ipython3",
      "version": "3.12.6"
    }
  },
  "nbformat": 4,
  "nbformat_minor": 0
}