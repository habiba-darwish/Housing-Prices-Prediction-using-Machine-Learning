{
  "nbformat": 4,
  "nbformat_minor": 0,
  "metadata": {
    "colab": {
      "provenance": [],
      "authorship_tag": "ABX9TyNYOvpnkYNGmOM0A29T4sGw",
      "include_colab_link": true
    },
    "kernelspec": {
      "name": "python3",
      "display_name": "Python 3"
    },
    "language_info": {
      "name": "python"
    }
  },
  "cells": [
    {
      "cell_type": "markdown",
      "metadata": {
        "id": "view-in-github",
        "colab_type": "text"
      },
      "source": [
        "<a href=\"https://colab.research.google.com/github/janaghoniem/Housing-Prices-Prediction-using-Machine-Learning/blob/main/Feature_Engineering.ipynb\" target=\"_parent\"><img src=\"https://colab.research.google.com/assets/colab-badge.svg\" alt=\"Open In Colab\"/></a>"
      ]
    },
    {
      "cell_type": "markdown",
      "source": [
        "#Dataset"
      ],
      "metadata": {
        "id": "tvV_5oD6QXr_"
      }
    },
    {
      "cell_type": "code",
      "execution_count": 110,
      "metadata": {
        "id": "HokGl0R-gHXd"
      },
      "outputs": [],
      "source": [
        "import pandas as pd\n",
        "import numpy as np\n",
        "import matplotlib.pyplot as plt\n",
        "import seaborn as sns\n",
        "import scipy.stats as stats\n",
        "from sklearn.preprocessing import StandardScaler, LabelEncoder, OneHotEncoder\n"
      ]
    },
    {
      "cell_type": "code",
      "source": [
        "from google.colab import drive\n",
        "drive.mount('/content/drive')"
      ],
      "metadata": {
        "colab": {
          "base_uri": "https://localhost:8080/"
        },
        "id": "EKL-XVwfjrs0",
        "outputId": "392cec2d-a1a9-46d7-83b0-bcec7df7fbfe"
      },
      "execution_count": 111,
      "outputs": [
        {
          "output_type": "stream",
          "name": "stdout",
          "text": [
            "Drive already mounted at /content/drive; to attempt to forcibly remount, call drive.mount(\"/content/drive\", force_remount=True).\n"
          ]
        }
      ]
    },
    {
      "cell_type": "code",
      "source": [
        "dataset = pd.read_csv('/content/drive/MyDrive/Machine Learning/cleaned_dataset.csv')"
      ],
      "metadata": {
        "id": "Qmgabd56jvST"
      },
      "execution_count": 112,
      "outputs": []
    },
    {
      "cell_type": "code",
      "source": [
        "import numpy as np\n",
        "\n",
        "# Check for non-finite values (NaN, inf, -inf)\n",
        "non_finite_counts = (dataset.isna().sum() + (dataset == np.inf).sum() + (dataset == -np.inf).sum())\n",
        "print(\"Non-finite values in each column:\")\n",
        "print(non_finite_counts[non_finite_counts > 0])"
      ],
      "metadata": {
        "colab": {
          "base_uri": "https://localhost:8080/"
        },
        "id": "SM0xZFedepZO",
        "outputId": "82179cfa-c78f-4732-bcce-4e46f08f14db"
      },
      "execution_count": 113,
      "outputs": [
        {
          "output_type": "stream",
          "name": "stdout",
          "text": [
            "Non-finite values in each column:\n",
            "BsmtQual         37\n",
            "BsmtCond         37\n",
            "BsmtExposure     37\n",
            "BsmtFinType1     37\n",
            "BsmtFinType2     37\n",
            "FireplaceQu     690\n",
            "GarageType       81\n",
            "GarageFinish     81\n",
            "GarageQual       81\n",
            "GarageCond       81\n",
            "dtype: int64\n"
          ]
        }
      ]
    },
    {
      "cell_type": "code",
      "source": [
        "dataset.info()"
      ],
      "metadata": {
        "colab": {
          "base_uri": "https://localhost:8080/"
        },
        "id": "-a9ftPOE7fEX",
        "outputId": "7c84c922-f7c1-495a-fd44-3bb8bd2b83c1"
      },
      "execution_count": 114,
      "outputs": [
        {
          "output_type": "stream",
          "name": "stdout",
          "text": [
            "<class 'pandas.core.frame.DataFrame'>\n",
            "RangeIndex: 1460 entries, 0 to 1459\n",
            "Data columns (total 75 columns):\n",
            " #   Column         Non-Null Count  Dtype  \n",
            "---  ------         --------------  -----  \n",
            " 0   MSSubClass     1460 non-null   int64  \n",
            " 1   MSZoning       1460 non-null   object \n",
            " 2   LotFrontage    1460 non-null   float64\n",
            " 3   LotArea        1460 non-null   float64\n",
            " 4   Street         1460 non-null   object \n",
            " 5   LotShape       1460 non-null   object \n",
            " 6   LandContour    1460 non-null   object \n",
            " 7   Utilities      1460 non-null   object \n",
            " 8   LotConfig      1460 non-null   object \n",
            " 9   LandSlope      1460 non-null   object \n",
            " 10  Neighborhood   1460 non-null   object \n",
            " 11  Condition1     1460 non-null   object \n",
            " 12  Condition2     1460 non-null   object \n",
            " 13  BldgType       1460 non-null   object \n",
            " 14  HouseStyle     1460 non-null   object \n",
            " 15  OverallQual    1460 non-null   int64  \n",
            " 16  OverallCond    1460 non-null   int64  \n",
            " 17  YearBuilt      1460 non-null   int64  \n",
            " 18  YearRemodAdd   1460 non-null   int64  \n",
            " 19  RoofStyle      1460 non-null   object \n",
            " 20  RoofMatl       1460 non-null   object \n",
            " 21  Exterior1st    1460 non-null   object \n",
            " 22  Exterior2nd    1460 non-null   object \n",
            " 23  MasVnrArea     1460 non-null   float64\n",
            " 24  ExterQual      1460 non-null   object \n",
            " 25  ExterCond      1460 non-null   object \n",
            " 26  Foundation     1460 non-null   object \n",
            " 27  BsmtQual       1423 non-null   object \n",
            " 28  BsmtCond       1423 non-null   object \n",
            " 29  BsmtExposure   1423 non-null   object \n",
            " 30  BsmtFinType1   1423 non-null   object \n",
            " 31  BsmtFinSF1     1460 non-null   float64\n",
            " 32  BsmtFinType2   1423 non-null   object \n",
            " 33  BsmtFinSF2     1460 non-null   int64  \n",
            " 34  BsmtUnfSF      1460 non-null   float64\n",
            " 35  TotalBsmtSF    1460 non-null   int64  \n",
            " 36  Heating        1460 non-null   object \n",
            " 37  HeatingQC      1460 non-null   object \n",
            " 38  CentralAir     1460 non-null   object \n",
            " 39  Electrical     1460 non-null   object \n",
            " 40  1stFlrSF       1460 non-null   int64  \n",
            " 41  2ndFlrSF       1460 non-null   int64  \n",
            " 42  LowQualFinSF   1460 non-null   int64  \n",
            " 43  GrLivArea      1460 non-null   float64\n",
            " 44  BsmtFullBath   1460 non-null   int64  \n",
            " 45  BsmtHalfBath   1460 non-null   int64  \n",
            " 46  FullBath       1460 non-null   int64  \n",
            " 47  HalfBath       1460 non-null   int64  \n",
            " 48  BedroomAbvGr   1460 non-null   int64  \n",
            " 49  KitchenAbvGr   1460 non-null   int64  \n",
            " 50  KitchenQual    1460 non-null   object \n",
            " 51  TotRmsAbvGrd   1460 non-null   int64  \n",
            " 52  Functional     1460 non-null   object \n",
            " 53  Fireplaces     1460 non-null   float64\n",
            " 54  FireplaceQu    770 non-null    object \n",
            " 55  GarageType     1379 non-null   object \n",
            " 56  GarageYrBlt    1460 non-null   int64  \n",
            " 57  GarageFinish   1379 non-null   object \n",
            " 58  GarageCars     1460 non-null   float64\n",
            " 59  GarageArea     1460 non-null   float64\n",
            " 60  GarageQual     1379 non-null   object \n",
            " 61  GarageCond     1379 non-null   object \n",
            " 62  PavedDrive     1460 non-null   object \n",
            " 63  WoodDeckSF     1460 non-null   int64  \n",
            " 64  OpenPorchSF    1460 non-null   int64  \n",
            " 65  EnclosedPorch  1460 non-null   int64  \n",
            " 66  3SsnPorch      1460 non-null   int64  \n",
            " 67  ScreenPorch    1460 non-null   int64  \n",
            " 68  PoolArea       1460 non-null   int64  \n",
            " 69  MiscVal        1460 non-null   int64  \n",
            " 70  MoSold         1460 non-null   int64  \n",
            " 71  YrSold         1460 non-null   int64  \n",
            " 72  SaleType       1460 non-null   object \n",
            " 73  SaleCondition  1460 non-null   object \n",
            " 74  SalePrice      1460 non-null   float64\n",
            "dtypes: float64(10), int64(27), object(38)\n",
            "memory usage: 855.6+ KB\n"
          ]
        }
      ]
    },
    {
      "cell_type": "markdown",
      "source": [
        "#Create New Feature"
      ],
      "metadata": {
        "id": "lY4Bx9EG7M8i"
      }
    },
    {
      "cell_type": "code",
      "source": [
        "dataset['TotalBath'] = dataset['FullBath'] + 0.5 * dataset['HalfBath'] + dataset['BsmtFullBath'] + 0.5 * dataset['BsmtHalfBath']\n",
        "dataset['TotalPorchSF'] = dataset['OpenPorchSF'] + dataset['EnclosedPorch'] + dataset['3SsnPorch'] + dataset['ScreenPorch']\n",
        "dataset['HouseAge'] = dataset['YrSold'] - dataset['YearBuilt']\n",
        "dataset['IsRemodeled'] = (dataset['YearBuilt'] != dataset['YearRemodAdd']).astype(int)\n",
        "dataset"
      ],
      "metadata": {
        "colab": {
          "base_uri": "https://localhost:8080/",
          "height": 0
        },
        "collapsed": true,
        "id": "glTRjhqm7Rxn",
        "outputId": "2ef62e9a-34e2-4f11-b4e7-d71170f95684"
      },
      "execution_count": 115,
      "outputs": [
        {
          "output_type": "execute_result",
          "data": {
            "text/plain": [
              "      MSSubClass MSZoning  LotFrontage   LotArea Street LotShape LandContour  \\\n",
              "0             60       RL     4.189655  9.042040   Pave      Reg         Lvl   \n",
              "1             20       RL     4.394449  9.169623   Pave      Reg         Lvl   \n",
              "2             60       RL     4.234107  9.328212   Pave      IR1         Lvl   \n",
              "3             70       RL     4.110874  9.164401   Pave      IR1         Lvl   \n",
              "4             60       RL     4.442651  9.565284   Pave      IR1         Lvl   \n",
              "...          ...      ...          ...       ...    ...      ...         ...   \n",
              "1455          60       RL     4.143135  8.976894   Pave      Reg         Lvl   \n",
              "1456          20       RL     4.454347  9.486152   Pave      Reg         Lvl   \n",
              "1457          70       RL     4.204693  9.109746   Pave      Reg         Lvl   \n",
              "1458          20       RL     4.234107  9.181735   Pave      Reg         Lvl   \n",
              "1459          20       RL     4.330733  9.204121   Pave      Reg         Lvl   \n",
              "\n",
              "     Utilities LotConfig LandSlope  ... MiscVal MoSold YrSold SaleType  \\\n",
              "0       AllPub    Inside       Gtl  ...       0      2   2008       WD   \n",
              "1       AllPub       FR2       Gtl  ...       0      5   2007       WD   \n",
              "2       AllPub    Inside       Gtl  ...       0      9   2008       WD   \n",
              "3       AllPub    Corner       Gtl  ...       0      2   2006       WD   \n",
              "4       AllPub       FR2       Gtl  ...       0     12   2008       WD   \n",
              "...        ...       ...       ...  ...     ...    ...    ...      ...   \n",
              "1455    AllPub    Inside       Gtl  ...       0      8   2007       WD   \n",
              "1456    AllPub    Inside       Gtl  ...       0      2   2010       WD   \n",
              "1457    AllPub    Inside       Gtl  ...    2500      5   2010       WD   \n",
              "1458    AllPub    Inside       Gtl  ...       0      4   2010       WD   \n",
              "1459    AllPub    Inside       Gtl  ...       0      6   2008       WD   \n",
              "\n",
              "     SaleCondition  SalePrice  TotalBath  TotalPorchSF  HouseAge IsRemodeled  \n",
              "0           Normal  12.247699        3.5            61         5           0  \n",
              "1           Normal  12.109016        2.5             0        31           0  \n",
              "2           Normal  12.317171        3.5            42         7           1  \n",
              "3          Abnorml  11.849405        2.0            35        91           1  \n",
              "4           Normal  12.429220        3.5            84         8           0  \n",
              "...            ...        ...        ...           ...       ...         ...  \n",
              "1455        Normal  12.072547        2.5            40         8           1  \n",
              "1456        Normal  12.254868        3.0             0        32           1  \n",
              "1457        Normal  12.493133        2.0            60        69           1  \n",
              "1458        Normal  11.864469        2.0             0        60           1  \n",
              "1459        Normal  11.901590        2.5            68        43           0  \n",
              "\n",
              "[1460 rows x 79 columns]"
            ],
            "text/html": [
              "\n",
              "  <div id=\"df-964a5c3a-a624-4073-aa06-b31fdf7aa7cf\" class=\"colab-df-container\">\n",
              "    <div>\n",
              "<style scoped>\n",
              "    .dataframe tbody tr th:only-of-type {\n",
              "        vertical-align: middle;\n",
              "    }\n",
              "\n",
              "    .dataframe tbody tr th {\n",
              "        vertical-align: top;\n",
              "    }\n",
              "\n",
              "    .dataframe thead th {\n",
              "        text-align: right;\n",
              "    }\n",
              "</style>\n",
              "<table border=\"1\" class=\"dataframe\">\n",
              "  <thead>\n",
              "    <tr style=\"text-align: right;\">\n",
              "      <th></th>\n",
              "      <th>MSSubClass</th>\n",
              "      <th>MSZoning</th>\n",
              "      <th>LotFrontage</th>\n",
              "      <th>LotArea</th>\n",
              "      <th>Street</th>\n",
              "      <th>LotShape</th>\n",
              "      <th>LandContour</th>\n",
              "      <th>Utilities</th>\n",
              "      <th>LotConfig</th>\n",
              "      <th>LandSlope</th>\n",
              "      <th>...</th>\n",
              "      <th>MiscVal</th>\n",
              "      <th>MoSold</th>\n",
              "      <th>YrSold</th>\n",
              "      <th>SaleType</th>\n",
              "      <th>SaleCondition</th>\n",
              "      <th>SalePrice</th>\n",
              "      <th>TotalBath</th>\n",
              "      <th>TotalPorchSF</th>\n",
              "      <th>HouseAge</th>\n",
              "      <th>IsRemodeled</th>\n",
              "    </tr>\n",
              "  </thead>\n",
              "  <tbody>\n",
              "    <tr>\n",
              "      <th>0</th>\n",
              "      <td>60</td>\n",
              "      <td>RL</td>\n",
              "      <td>4.189655</td>\n",
              "      <td>9.042040</td>\n",
              "      <td>Pave</td>\n",
              "      <td>Reg</td>\n",
              "      <td>Lvl</td>\n",
              "      <td>AllPub</td>\n",
              "      <td>Inside</td>\n",
              "      <td>Gtl</td>\n",
              "      <td>...</td>\n",
              "      <td>0</td>\n",
              "      <td>2</td>\n",
              "      <td>2008</td>\n",
              "      <td>WD</td>\n",
              "      <td>Normal</td>\n",
              "      <td>12.247699</td>\n",
              "      <td>3.5</td>\n",
              "      <td>61</td>\n",
              "      <td>5</td>\n",
              "      <td>0</td>\n",
              "    </tr>\n",
              "    <tr>\n",
              "      <th>1</th>\n",
              "      <td>20</td>\n",
              "      <td>RL</td>\n",
              "      <td>4.394449</td>\n",
              "      <td>9.169623</td>\n",
              "      <td>Pave</td>\n",
              "      <td>Reg</td>\n",
              "      <td>Lvl</td>\n",
              "      <td>AllPub</td>\n",
              "      <td>FR2</td>\n",
              "      <td>Gtl</td>\n",
              "      <td>...</td>\n",
              "      <td>0</td>\n",
              "      <td>5</td>\n",
              "      <td>2007</td>\n",
              "      <td>WD</td>\n",
              "      <td>Normal</td>\n",
              "      <td>12.109016</td>\n",
              "      <td>2.5</td>\n",
              "      <td>0</td>\n",
              "      <td>31</td>\n",
              "      <td>0</td>\n",
              "    </tr>\n",
              "    <tr>\n",
              "      <th>2</th>\n",
              "      <td>60</td>\n",
              "      <td>RL</td>\n",
              "      <td>4.234107</td>\n",
              "      <td>9.328212</td>\n",
              "      <td>Pave</td>\n",
              "      <td>IR1</td>\n",
              "      <td>Lvl</td>\n",
              "      <td>AllPub</td>\n",
              "      <td>Inside</td>\n",
              "      <td>Gtl</td>\n",
              "      <td>...</td>\n",
              "      <td>0</td>\n",
              "      <td>9</td>\n",
              "      <td>2008</td>\n",
              "      <td>WD</td>\n",
              "      <td>Normal</td>\n",
              "      <td>12.317171</td>\n",
              "      <td>3.5</td>\n",
              "      <td>42</td>\n",
              "      <td>7</td>\n",
              "      <td>1</td>\n",
              "    </tr>\n",
              "    <tr>\n",
              "      <th>3</th>\n",
              "      <td>70</td>\n",
              "      <td>RL</td>\n",
              "      <td>4.110874</td>\n",
              "      <td>9.164401</td>\n",
              "      <td>Pave</td>\n",
              "      <td>IR1</td>\n",
              "      <td>Lvl</td>\n",
              "      <td>AllPub</td>\n",
              "      <td>Corner</td>\n",
              "      <td>Gtl</td>\n",
              "      <td>...</td>\n",
              "      <td>0</td>\n",
              "      <td>2</td>\n",
              "      <td>2006</td>\n",
              "      <td>WD</td>\n",
              "      <td>Abnorml</td>\n",
              "      <td>11.849405</td>\n",
              "      <td>2.0</td>\n",
              "      <td>35</td>\n",
              "      <td>91</td>\n",
              "      <td>1</td>\n",
              "    </tr>\n",
              "    <tr>\n",
              "      <th>4</th>\n",
              "      <td>60</td>\n",
              "      <td>RL</td>\n",
              "      <td>4.442651</td>\n",
              "      <td>9.565284</td>\n",
              "      <td>Pave</td>\n",
              "      <td>IR1</td>\n",
              "      <td>Lvl</td>\n",
              "      <td>AllPub</td>\n",
              "      <td>FR2</td>\n",
              "      <td>Gtl</td>\n",
              "      <td>...</td>\n",
              "      <td>0</td>\n",
              "      <td>12</td>\n",
              "      <td>2008</td>\n",
              "      <td>WD</td>\n",
              "      <td>Normal</td>\n",
              "      <td>12.429220</td>\n",
              "      <td>3.5</td>\n",
              "      <td>84</td>\n",
              "      <td>8</td>\n",
              "      <td>0</td>\n",
              "    </tr>\n",
              "    <tr>\n",
              "      <th>...</th>\n",
              "      <td>...</td>\n",
              "      <td>...</td>\n",
              "      <td>...</td>\n",
              "      <td>...</td>\n",
              "      <td>...</td>\n",
              "      <td>...</td>\n",
              "      <td>...</td>\n",
              "      <td>...</td>\n",
              "      <td>...</td>\n",
              "      <td>...</td>\n",
              "      <td>...</td>\n",
              "      <td>...</td>\n",
              "      <td>...</td>\n",
              "      <td>...</td>\n",
              "      <td>...</td>\n",
              "      <td>...</td>\n",
              "      <td>...</td>\n",
              "      <td>...</td>\n",
              "      <td>...</td>\n",
              "      <td>...</td>\n",
              "      <td>...</td>\n",
              "    </tr>\n",
              "    <tr>\n",
              "      <th>1455</th>\n",
              "      <td>60</td>\n",
              "      <td>RL</td>\n",
              "      <td>4.143135</td>\n",
              "      <td>8.976894</td>\n",
              "      <td>Pave</td>\n",
              "      <td>Reg</td>\n",
              "      <td>Lvl</td>\n",
              "      <td>AllPub</td>\n",
              "      <td>Inside</td>\n",
              "      <td>Gtl</td>\n",
              "      <td>...</td>\n",
              "      <td>0</td>\n",
              "      <td>8</td>\n",
              "      <td>2007</td>\n",
              "      <td>WD</td>\n",
              "      <td>Normal</td>\n",
              "      <td>12.072547</td>\n",
              "      <td>2.5</td>\n",
              "      <td>40</td>\n",
              "      <td>8</td>\n",
              "      <td>1</td>\n",
              "    </tr>\n",
              "    <tr>\n",
              "      <th>1456</th>\n",
              "      <td>20</td>\n",
              "      <td>RL</td>\n",
              "      <td>4.454347</td>\n",
              "      <td>9.486152</td>\n",
              "      <td>Pave</td>\n",
              "      <td>Reg</td>\n",
              "      <td>Lvl</td>\n",
              "      <td>AllPub</td>\n",
              "      <td>Inside</td>\n",
              "      <td>Gtl</td>\n",
              "      <td>...</td>\n",
              "      <td>0</td>\n",
              "      <td>2</td>\n",
              "      <td>2010</td>\n",
              "      <td>WD</td>\n",
              "      <td>Normal</td>\n",
              "      <td>12.254868</td>\n",
              "      <td>3.0</td>\n",
              "      <td>0</td>\n",
              "      <td>32</td>\n",
              "      <td>1</td>\n",
              "    </tr>\n",
              "    <tr>\n",
              "      <th>1457</th>\n",
              "      <td>70</td>\n",
              "      <td>RL</td>\n",
              "      <td>4.204693</td>\n",
              "      <td>9.109746</td>\n",
              "      <td>Pave</td>\n",
              "      <td>Reg</td>\n",
              "      <td>Lvl</td>\n",
              "      <td>AllPub</td>\n",
              "      <td>Inside</td>\n",
              "      <td>Gtl</td>\n",
              "      <td>...</td>\n",
              "      <td>2500</td>\n",
              "      <td>5</td>\n",
              "      <td>2010</td>\n",
              "      <td>WD</td>\n",
              "      <td>Normal</td>\n",
              "      <td>12.493133</td>\n",
              "      <td>2.0</td>\n",
              "      <td>60</td>\n",
              "      <td>69</td>\n",
              "      <td>1</td>\n",
              "    </tr>\n",
              "    <tr>\n",
              "      <th>1458</th>\n",
              "      <td>20</td>\n",
              "      <td>RL</td>\n",
              "      <td>4.234107</td>\n",
              "      <td>9.181735</td>\n",
              "      <td>Pave</td>\n",
              "      <td>Reg</td>\n",
              "      <td>Lvl</td>\n",
              "      <td>AllPub</td>\n",
              "      <td>Inside</td>\n",
              "      <td>Gtl</td>\n",
              "      <td>...</td>\n",
              "      <td>0</td>\n",
              "      <td>4</td>\n",
              "      <td>2010</td>\n",
              "      <td>WD</td>\n",
              "      <td>Normal</td>\n",
              "      <td>11.864469</td>\n",
              "      <td>2.0</td>\n",
              "      <td>0</td>\n",
              "      <td>60</td>\n",
              "      <td>1</td>\n",
              "    </tr>\n",
              "    <tr>\n",
              "      <th>1459</th>\n",
              "      <td>20</td>\n",
              "      <td>RL</td>\n",
              "      <td>4.330733</td>\n",
              "      <td>9.204121</td>\n",
              "      <td>Pave</td>\n",
              "      <td>Reg</td>\n",
              "      <td>Lvl</td>\n",
              "      <td>AllPub</td>\n",
              "      <td>Inside</td>\n",
              "      <td>Gtl</td>\n",
              "      <td>...</td>\n",
              "      <td>0</td>\n",
              "      <td>6</td>\n",
              "      <td>2008</td>\n",
              "      <td>WD</td>\n",
              "      <td>Normal</td>\n",
              "      <td>11.901590</td>\n",
              "      <td>2.5</td>\n",
              "      <td>68</td>\n",
              "      <td>43</td>\n",
              "      <td>0</td>\n",
              "    </tr>\n",
              "  </tbody>\n",
              "</table>\n",
              "<p>1460 rows × 79 columns</p>\n",
              "</div>\n",
              "    <div class=\"colab-df-buttons\">\n",
              "\n",
              "  <div class=\"colab-df-container\">\n",
              "    <button class=\"colab-df-convert\" onclick=\"convertToInteractive('df-964a5c3a-a624-4073-aa06-b31fdf7aa7cf')\"\n",
              "            title=\"Convert this dataframe to an interactive table.\"\n",
              "            style=\"display:none;\">\n",
              "\n",
              "  <svg xmlns=\"http://www.w3.org/2000/svg\" height=\"24px\" viewBox=\"0 -960 960 960\">\n",
              "    <path d=\"M120-120v-720h720v720H120Zm60-500h600v-160H180v160Zm220 220h160v-160H400v160Zm0 220h160v-160H400v160ZM180-400h160v-160H180v160Zm440 0h160v-160H620v160ZM180-180h160v-160H180v160Zm440 0h160v-160H620v160Z\"/>\n",
              "  </svg>\n",
              "    </button>\n",
              "\n",
              "  <style>\n",
              "    .colab-df-container {\n",
              "      display:flex;\n",
              "      gap: 12px;\n",
              "    }\n",
              "\n",
              "    .colab-df-convert {\n",
              "      background-color: #E8F0FE;\n",
              "      border: none;\n",
              "      border-radius: 50%;\n",
              "      cursor: pointer;\n",
              "      display: none;\n",
              "      fill: #1967D2;\n",
              "      height: 32px;\n",
              "      padding: 0 0 0 0;\n",
              "      width: 32px;\n",
              "    }\n",
              "\n",
              "    .colab-df-convert:hover {\n",
              "      background-color: #E2EBFA;\n",
              "      box-shadow: 0px 1px 2px rgba(60, 64, 67, 0.3), 0px 1px 3px 1px rgba(60, 64, 67, 0.15);\n",
              "      fill: #174EA6;\n",
              "    }\n",
              "\n",
              "    .colab-df-buttons div {\n",
              "      margin-bottom: 4px;\n",
              "    }\n",
              "\n",
              "    [theme=dark] .colab-df-convert {\n",
              "      background-color: #3B4455;\n",
              "      fill: #D2E3FC;\n",
              "    }\n",
              "\n",
              "    [theme=dark] .colab-df-convert:hover {\n",
              "      background-color: #434B5C;\n",
              "      box-shadow: 0px 1px 3px 1px rgba(0, 0, 0, 0.15);\n",
              "      filter: drop-shadow(0px 1px 2px rgba(0, 0, 0, 0.3));\n",
              "      fill: #FFFFFF;\n",
              "    }\n",
              "  </style>\n",
              "\n",
              "    <script>\n",
              "      const buttonEl =\n",
              "        document.querySelector('#df-964a5c3a-a624-4073-aa06-b31fdf7aa7cf button.colab-df-convert');\n",
              "      buttonEl.style.display =\n",
              "        google.colab.kernel.accessAllowed ? 'block' : 'none';\n",
              "\n",
              "      async function convertToInteractive(key) {\n",
              "        const element = document.querySelector('#df-964a5c3a-a624-4073-aa06-b31fdf7aa7cf');\n",
              "        const dataTable =\n",
              "          await google.colab.kernel.invokeFunction('convertToInteractive',\n",
              "                                                    [key], {});\n",
              "        if (!dataTable) return;\n",
              "\n",
              "        const docLinkHtml = 'Like what you see? Visit the ' +\n",
              "          '<a target=\"_blank\" href=https://colab.research.google.com/notebooks/data_table.ipynb>data table notebook</a>'\n",
              "          + ' to learn more about interactive tables.';\n",
              "        element.innerHTML = '';\n",
              "        dataTable['output_type'] = 'display_data';\n",
              "        await google.colab.output.renderOutput(dataTable, element);\n",
              "        const docLink = document.createElement('div');\n",
              "        docLink.innerHTML = docLinkHtml;\n",
              "        element.appendChild(docLink);\n",
              "      }\n",
              "    </script>\n",
              "  </div>\n",
              "\n",
              "\n",
              "<div id=\"df-00597435-2656-4c2a-981f-49bbc80af304\">\n",
              "  <button class=\"colab-df-quickchart\" onclick=\"quickchart('df-00597435-2656-4c2a-981f-49bbc80af304')\"\n",
              "            title=\"Suggest charts\"\n",
              "            style=\"display:none;\">\n",
              "\n",
              "<svg xmlns=\"http://www.w3.org/2000/svg\" height=\"24px\"viewBox=\"0 0 24 24\"\n",
              "     width=\"24px\">\n",
              "    <g>\n",
              "        <path d=\"M19 3H5c-1.1 0-2 .9-2 2v14c0 1.1.9 2 2 2h14c1.1 0 2-.9 2-2V5c0-1.1-.9-2-2-2zM9 17H7v-7h2v7zm4 0h-2V7h2v10zm4 0h-2v-4h2v4z\"/>\n",
              "    </g>\n",
              "</svg>\n",
              "  </button>\n",
              "\n",
              "<style>\n",
              "  .colab-df-quickchart {\n",
              "      --bg-color: #E8F0FE;\n",
              "      --fill-color: #1967D2;\n",
              "      --hover-bg-color: #E2EBFA;\n",
              "      --hover-fill-color: #174EA6;\n",
              "      --disabled-fill-color: #AAA;\n",
              "      --disabled-bg-color: #DDD;\n",
              "  }\n",
              "\n",
              "  [theme=dark] .colab-df-quickchart {\n",
              "      --bg-color: #3B4455;\n",
              "      --fill-color: #D2E3FC;\n",
              "      --hover-bg-color: #434B5C;\n",
              "      --hover-fill-color: #FFFFFF;\n",
              "      --disabled-bg-color: #3B4455;\n",
              "      --disabled-fill-color: #666;\n",
              "  }\n",
              "\n",
              "  .colab-df-quickchart {\n",
              "    background-color: var(--bg-color);\n",
              "    border: none;\n",
              "    border-radius: 50%;\n",
              "    cursor: pointer;\n",
              "    display: none;\n",
              "    fill: var(--fill-color);\n",
              "    height: 32px;\n",
              "    padding: 0;\n",
              "    width: 32px;\n",
              "  }\n",
              "\n",
              "  .colab-df-quickchart:hover {\n",
              "    background-color: var(--hover-bg-color);\n",
              "    box-shadow: 0 1px 2px rgba(60, 64, 67, 0.3), 0 1px 3px 1px rgba(60, 64, 67, 0.15);\n",
              "    fill: var(--button-hover-fill-color);\n",
              "  }\n",
              "\n",
              "  .colab-df-quickchart-complete:disabled,\n",
              "  .colab-df-quickchart-complete:disabled:hover {\n",
              "    background-color: var(--disabled-bg-color);\n",
              "    fill: var(--disabled-fill-color);\n",
              "    box-shadow: none;\n",
              "  }\n",
              "\n",
              "  .colab-df-spinner {\n",
              "    border: 2px solid var(--fill-color);\n",
              "    border-color: transparent;\n",
              "    border-bottom-color: var(--fill-color);\n",
              "    animation:\n",
              "      spin 1s steps(1) infinite;\n",
              "  }\n",
              "\n",
              "  @keyframes spin {\n",
              "    0% {\n",
              "      border-color: transparent;\n",
              "      border-bottom-color: var(--fill-color);\n",
              "      border-left-color: var(--fill-color);\n",
              "    }\n",
              "    20% {\n",
              "      border-color: transparent;\n",
              "      border-left-color: var(--fill-color);\n",
              "      border-top-color: var(--fill-color);\n",
              "    }\n",
              "    30% {\n",
              "      border-color: transparent;\n",
              "      border-left-color: var(--fill-color);\n",
              "      border-top-color: var(--fill-color);\n",
              "      border-right-color: var(--fill-color);\n",
              "    }\n",
              "    40% {\n",
              "      border-color: transparent;\n",
              "      border-right-color: var(--fill-color);\n",
              "      border-top-color: var(--fill-color);\n",
              "    }\n",
              "    60% {\n",
              "      border-color: transparent;\n",
              "      border-right-color: var(--fill-color);\n",
              "    }\n",
              "    80% {\n",
              "      border-color: transparent;\n",
              "      border-right-color: var(--fill-color);\n",
              "      border-bottom-color: var(--fill-color);\n",
              "    }\n",
              "    90% {\n",
              "      border-color: transparent;\n",
              "      border-bottom-color: var(--fill-color);\n",
              "    }\n",
              "  }\n",
              "</style>\n",
              "\n",
              "  <script>\n",
              "    async function quickchart(key) {\n",
              "      const quickchartButtonEl =\n",
              "        document.querySelector('#' + key + ' button');\n",
              "      quickchartButtonEl.disabled = true;  // To prevent multiple clicks.\n",
              "      quickchartButtonEl.classList.add('colab-df-spinner');\n",
              "      try {\n",
              "        const charts = await google.colab.kernel.invokeFunction(\n",
              "            'suggestCharts', [key], {});\n",
              "      } catch (error) {\n",
              "        console.error('Error during call to suggestCharts:', error);\n",
              "      }\n",
              "      quickchartButtonEl.classList.remove('colab-df-spinner');\n",
              "      quickchartButtonEl.classList.add('colab-df-quickchart-complete');\n",
              "    }\n",
              "    (() => {\n",
              "      let quickchartButtonEl =\n",
              "        document.querySelector('#df-00597435-2656-4c2a-981f-49bbc80af304 button');\n",
              "      quickchartButtonEl.style.display =\n",
              "        google.colab.kernel.accessAllowed ? 'block' : 'none';\n",
              "    })();\n",
              "  </script>\n",
              "</div>\n",
              "\n",
              "  <div id=\"id_26340ea1-09b9-43ec-a49f-a8372cfb5e1e\">\n",
              "    <style>\n",
              "      .colab-df-generate {\n",
              "        background-color: #E8F0FE;\n",
              "        border: none;\n",
              "        border-radius: 50%;\n",
              "        cursor: pointer;\n",
              "        display: none;\n",
              "        fill: #1967D2;\n",
              "        height: 32px;\n",
              "        padding: 0 0 0 0;\n",
              "        width: 32px;\n",
              "      }\n",
              "\n",
              "      .colab-df-generate:hover {\n",
              "        background-color: #E2EBFA;\n",
              "        box-shadow: 0px 1px 2px rgba(60, 64, 67, 0.3), 0px 1px 3px 1px rgba(60, 64, 67, 0.15);\n",
              "        fill: #174EA6;\n",
              "      }\n",
              "\n",
              "      [theme=dark] .colab-df-generate {\n",
              "        background-color: #3B4455;\n",
              "        fill: #D2E3FC;\n",
              "      }\n",
              "\n",
              "      [theme=dark] .colab-df-generate:hover {\n",
              "        background-color: #434B5C;\n",
              "        box-shadow: 0px 1px 3px 1px rgba(0, 0, 0, 0.15);\n",
              "        filter: drop-shadow(0px 1px 2px rgba(0, 0, 0, 0.3));\n",
              "        fill: #FFFFFF;\n",
              "      }\n",
              "    </style>\n",
              "    <button class=\"colab-df-generate\" onclick=\"generateWithVariable('dataset')\"\n",
              "            title=\"Generate code using this dataframe.\"\n",
              "            style=\"display:none;\">\n",
              "\n",
              "  <svg xmlns=\"http://www.w3.org/2000/svg\" height=\"24px\"viewBox=\"0 0 24 24\"\n",
              "       width=\"24px\">\n",
              "    <path d=\"M7,19H8.4L18.45,9,17,7.55,7,17.6ZM5,21V16.75L18.45,3.32a2,2,0,0,1,2.83,0l1.4,1.43a1.91,1.91,0,0,1,.58,1.4,1.91,1.91,0,0,1-.58,1.4L9.25,21ZM18.45,9,17,7.55Zm-12,3A5.31,5.31,0,0,0,4.9,8.1,5.31,5.31,0,0,0,1,6.5,5.31,5.31,0,0,0,4.9,4.9,5.31,5.31,0,0,0,6.5,1,5.31,5.31,0,0,0,8.1,4.9,5.31,5.31,0,0,0,12,6.5,5.46,5.46,0,0,0,6.5,12Z\"/>\n",
              "  </svg>\n",
              "    </button>\n",
              "    <script>\n",
              "      (() => {\n",
              "      const buttonEl =\n",
              "        document.querySelector('#id_26340ea1-09b9-43ec-a49f-a8372cfb5e1e button.colab-df-generate');\n",
              "      buttonEl.style.display =\n",
              "        google.colab.kernel.accessAllowed ? 'block' : 'none';\n",
              "\n",
              "      buttonEl.onclick = () => {\n",
              "        google.colab.notebook.generateWithVariable('dataset');\n",
              "      }\n",
              "      })();\n",
              "    </script>\n",
              "  </div>\n",
              "\n",
              "    </div>\n",
              "  </div>\n"
            ],
            "application/vnd.google.colaboratory.intrinsic+json": {
              "type": "dataframe",
              "variable_name": "dataset"
            }
          },
          "metadata": {},
          "execution_count": 115
        }
      ]
    },
    {
      "cell_type": "code",
      "source": [
        "dataset[\"TotalSqFt\"] = dataset[\"GrLivArea\"] + dataset[\"TotalBsmtSF\"] + dataset[\"GarageArea\"]"
      ],
      "metadata": {
        "id": "Lj5w5t9MGCBZ"
      },
      "execution_count": 116,
      "outputs": []
    },
    {
      "cell_type": "code",
      "source": [
        "dataset[\"HasGarage\"]   = (dataset[\"GarageArea\"] > 0).astype(int)"
      ],
      "metadata": {
        "id": "qNx_9O_8GL_M"
      },
      "execution_count": 117,
      "outputs": []
    },
    {
      "cell_type": "code",
      "source": [
        "dataset[\"QualitySize\"]  = dataset[\"OverallQual\"] * dataset[\"GrLivArea\"]"
      ],
      "metadata": {
        "id": "jd017_8bIm4l"
      },
      "execution_count": 118,
      "outputs": []
    },
    {
      "cell_type": "code",
      "source": [
        "# Mapping for basement quality\n",
        "#Revesisit for better accuracy\n",
        "bsmt_fin_type_map = {'NA': 0, 'Unf': 1, 'LwQ': 2, 'Rec': 3, 'BLQ': 4, 'ALQ': 5, 'GLQ': 6}\n",
        "dataset['BsmtFinType1'] = dataset['BsmtFinType1'].map(bsmt_fin_type_map)\n",
        "dataset['BsmtFinType2'] = dataset['BsmtFinType2'].map(bsmt_fin_type_map)\n",
        "\n",
        "# Create new features\n",
        "dataset['TotalBsmtFinScore'] = (\n",
        "    dataset['BsmtFinSF1'] * dataset['BsmtFinType1'] +\n",
        "    dataset['BsmtFinSF2'] * dataset['BsmtFinType2']\n",
        ")\n",
        "\n",
        "dataset['BsmtFinRatio'] = (\n",
        "    (dataset['BsmtFinSF1'] + dataset['BsmtFinSF2']) / dataset['TotalBsmtSF']\n",
        ").fillna(0)\n",
        "\n",
        "# Display dataset\n",
        "print(dataset.head())\n"
      ],
      "metadata": {
        "colab": {
          "base_uri": "https://localhost:8080/"
        },
        "id": "vAnBRWdKVXct",
        "outputId": "188ffccb-cda1-4737-93bc-0fe25021180c"
      },
      "execution_count": 119,
      "outputs": [
        {
          "output_type": "stream",
          "name": "stdout",
          "text": [
            "   MSSubClass MSZoning  LotFrontage   LotArea Street LotShape LandContour  \\\n",
            "0          60       RL     4.189655  9.042040   Pave      Reg         Lvl   \n",
            "1          20       RL     4.394449  9.169623   Pave      Reg         Lvl   \n",
            "2          60       RL     4.234107  9.328212   Pave      IR1         Lvl   \n",
            "3          70       RL     4.110874  9.164401   Pave      IR1         Lvl   \n",
            "4          60       RL     4.442651  9.565284   Pave      IR1         Lvl   \n",
            "\n",
            "  Utilities LotConfig LandSlope  ...  SalePrice TotalBath TotalPorchSF  \\\n",
            "0    AllPub    Inside       Gtl  ...  12.247699       3.5           61   \n",
            "1    AllPub       FR2       Gtl  ...  12.109016       2.5            0   \n",
            "2    AllPub    Inside       Gtl  ...  12.317171       3.5           42   \n",
            "3    AllPub    Corner       Gtl  ...  11.849405       2.0           35   \n",
            "4    AllPub       FR2       Gtl  ...  12.429220       3.5           84   \n",
            "\n",
            "  HouseAge IsRemodeled    TotalSqFt  HasGarage  QualitySize  \\\n",
            "0        5           0  1411.444833          1    52.113833   \n",
            "1       31           0  1729.141245          1    42.847471   \n",
            "2        7           1  1535.488294          1    52.418055   \n",
            "3       91           1  1405.448916          1    52.142413   \n",
            "4        8           0  1988.695758          1    61.566064   \n",
            "\n",
            "   TotalBsmtFinScore BsmtFinRatio  \n",
            "0             4236.0     0.824766  \n",
            "1             4890.0     0.774960  \n",
            "2             2916.0     0.528261  \n",
            "3             1080.0     0.285714  \n",
            "4             3930.0     0.572052  \n",
            "\n",
            "[5 rows x 84 columns]\n"
          ]
        }
      ]
    },
    {
      "cell_type": "code",
      "source": [
        "nbhd_map = dataset.groupby(\"Neighborhood\")[\"SalePrice\"].median()\n",
        "dataset[\"Neighborhood\"] = dataset[\"Neighborhood\"].map(nbhd_map)\n",
        "dataset[\"NeighborhoodQuality\"] = dataset[\"Neighborhood\"] * dataset[\"OverallQual\"]\n"
      ],
      "metadata": {
        "id": "cjKluHmDLOP5"
      },
      "execution_count": 120,
      "outputs": []
    },
    {
      "cell_type": "code",
      "source": [
        "quality_map = {\"Ex\": 5, \"Gd\": 4, \"TA\": 3, \"Fa\": 2, \"Po\": 1}\n",
        "for col in [\"ExterQual\", \"KitchenQual\", \"HeatingQC\"]:\n",
        "    if col in dataset.columns:\n",
        "        dataset[col + \"_ordinal\"] = dataset[col].map(quality_map)\n",
        "        dataset[col + \"_ordinal\"]  = dataset[col].map(quality_map)"
      ],
      "metadata": {
        "id": "XSfrkTwcLUeO"
      },
      "execution_count": 121,
      "outputs": []
    },
    {
      "cell_type": "code",
      "source": [
        "dataset.info()"
      ],
      "metadata": {
        "colab": {
          "base_uri": "https://localhost:8080/"
        },
        "id": "2CFuSF1VOOi0",
        "outputId": "8960d52b-5fd6-43a0-821c-deda6ac4e23b"
      },
      "execution_count": 122,
      "outputs": [
        {
          "output_type": "stream",
          "name": "stdout",
          "text": [
            "<class 'pandas.core.frame.DataFrame'>\n",
            "RangeIndex: 1460 entries, 0 to 1459\n",
            "Data columns (total 88 columns):\n",
            " #   Column               Non-Null Count  Dtype  \n",
            "---  ------               --------------  -----  \n",
            " 0   MSSubClass           1460 non-null   int64  \n",
            " 1   MSZoning             1460 non-null   object \n",
            " 2   LotFrontage          1460 non-null   float64\n",
            " 3   LotArea              1460 non-null   float64\n",
            " 4   Street               1460 non-null   object \n",
            " 5   LotShape             1460 non-null   object \n",
            " 6   LandContour          1460 non-null   object \n",
            " 7   Utilities            1460 non-null   object \n",
            " 8   LotConfig            1460 non-null   object \n",
            " 9   LandSlope            1460 non-null   object \n",
            " 10  Neighborhood         1460 non-null   float64\n",
            " 11  Condition1           1460 non-null   object \n",
            " 12  Condition2           1460 non-null   object \n",
            " 13  BldgType             1460 non-null   object \n",
            " 14  HouseStyle           1460 non-null   object \n",
            " 15  OverallQual          1460 non-null   int64  \n",
            " 16  OverallCond          1460 non-null   int64  \n",
            " 17  YearBuilt            1460 non-null   int64  \n",
            " 18  YearRemodAdd         1460 non-null   int64  \n",
            " 19  RoofStyle            1460 non-null   object \n",
            " 20  RoofMatl             1460 non-null   object \n",
            " 21  Exterior1st          1460 non-null   object \n",
            " 22  Exterior2nd          1460 non-null   object \n",
            " 23  MasVnrArea           1460 non-null   float64\n",
            " 24  ExterQual            1460 non-null   object \n",
            " 25  ExterCond            1460 non-null   object \n",
            " 26  Foundation           1460 non-null   object \n",
            " 27  BsmtQual             1423 non-null   object \n",
            " 28  BsmtCond             1423 non-null   object \n",
            " 29  BsmtExposure         1423 non-null   object \n",
            " 30  BsmtFinType1         1423 non-null   float64\n",
            " 31  BsmtFinSF1           1460 non-null   float64\n",
            " 32  BsmtFinType2         1423 non-null   float64\n",
            " 33  BsmtFinSF2           1460 non-null   int64  \n",
            " 34  BsmtUnfSF            1460 non-null   float64\n",
            " 35  TotalBsmtSF          1460 non-null   int64  \n",
            " 36  Heating              1460 non-null   object \n",
            " 37  HeatingQC            1460 non-null   object \n",
            " 38  CentralAir           1460 non-null   object \n",
            " 39  Electrical           1460 non-null   object \n",
            " 40  1stFlrSF             1460 non-null   int64  \n",
            " 41  2ndFlrSF             1460 non-null   int64  \n",
            " 42  LowQualFinSF         1460 non-null   int64  \n",
            " 43  GrLivArea            1460 non-null   float64\n",
            " 44  BsmtFullBath         1460 non-null   int64  \n",
            " 45  BsmtHalfBath         1460 non-null   int64  \n",
            " 46  FullBath             1460 non-null   int64  \n",
            " 47  HalfBath             1460 non-null   int64  \n",
            " 48  BedroomAbvGr         1460 non-null   int64  \n",
            " 49  KitchenAbvGr         1460 non-null   int64  \n",
            " 50  KitchenQual          1460 non-null   object \n",
            " 51  TotRmsAbvGrd         1460 non-null   int64  \n",
            " 52  Functional           1460 non-null   object \n",
            " 53  Fireplaces           1460 non-null   float64\n",
            " 54  FireplaceQu          770 non-null    object \n",
            " 55  GarageType           1379 non-null   object \n",
            " 56  GarageYrBlt          1460 non-null   int64  \n",
            " 57  GarageFinish         1379 non-null   object \n",
            " 58  GarageCars           1460 non-null   float64\n",
            " 59  GarageArea           1460 non-null   float64\n",
            " 60  GarageQual           1379 non-null   object \n",
            " 61  GarageCond           1379 non-null   object \n",
            " 62  PavedDrive           1460 non-null   object \n",
            " 63  WoodDeckSF           1460 non-null   int64  \n",
            " 64  OpenPorchSF          1460 non-null   int64  \n",
            " 65  EnclosedPorch        1460 non-null   int64  \n",
            " 66  3SsnPorch            1460 non-null   int64  \n",
            " 67  ScreenPorch          1460 non-null   int64  \n",
            " 68  PoolArea             1460 non-null   int64  \n",
            " 69  MiscVal              1460 non-null   int64  \n",
            " 70  MoSold               1460 non-null   int64  \n",
            " 71  YrSold               1460 non-null   int64  \n",
            " 72  SaleType             1460 non-null   object \n",
            " 73  SaleCondition        1460 non-null   object \n",
            " 74  SalePrice            1460 non-null   float64\n",
            " 75  TotalBath            1460 non-null   float64\n",
            " 76  TotalPorchSF         1460 non-null   int64  \n",
            " 77  HouseAge             1460 non-null   int64  \n",
            " 78  IsRemodeled          1460 non-null   int64  \n",
            " 79  TotalSqFt            1460 non-null   float64\n",
            " 80  HasGarage            1460 non-null   int64  \n",
            " 81  QualitySize          1460 non-null   float64\n",
            " 82  TotalBsmtFinScore    1423 non-null   float64\n",
            " 83  BsmtFinRatio         1460 non-null   float64\n",
            " 84  NeighborhoodQuality  1460 non-null   float64\n",
            " 85  ExterQual_ordinal    1460 non-null   int64  \n",
            " 86  KitchenQual_ordinal  1460 non-null   int64  \n",
            " 87  HeatingQC_ordinal    1460 non-null   int64  \n",
            "dtypes: float64(19), int64(34), object(35)\n",
            "memory usage: 1003.9+ KB\n"
          ]
        }
      ]
    },
    {
      "cell_type": "markdown",
      "source": [
        "#Drop Feature"
      ],
      "metadata": {
        "id": "hmIIqY9iCWJR"
      }
    },
    {
      "cell_type": "code",
      "source": [
        "# Example: Dropping redundant or low-variance features\n",
        "dataset['Street'].unique()\n",
        "dataset = dataset.drop(['Street'], axis=1)"
      ],
      "metadata": {
        "id": "uWIiGu4Uj2j6"
      },
      "execution_count": 123,
      "outputs": []
    },
    {
      "cell_type": "code",
      "source": [
        "zero_count = (dataset['TotalBsmtSF'] == 0).sum()\n",
        "print(\"Number of zero values in 'TotalBsmtSF':\", zero_count)"
      ],
      "metadata": {
        "colab": {
          "base_uri": "https://localhost:8080/"
        },
        "id": "1NujGnZLTZ-p",
        "outputId": "7812e17e-e45f-41e0-d039-0ca58d51f633"
      },
      "execution_count": 124,
      "outputs": [
        {
          "output_type": "stream",
          "name": "stdout",
          "text": [
            "Number of zero values in 'TotalBsmtSF': 0\n"
          ]
        }
      ]
    },
    {
      "cell_type": "code",
      "source": [
        "dataset['BsmtFinSF2'].unique()\n",
        "#dataset['BsmtFinSF1'].unique()"
      ],
      "metadata": {
        "colab": {
          "base_uri": "https://localhost:8080/"
        },
        "id": "aMNwFwBjUsFD",
        "outputId": "9b4369e0-ba4e-4319-fba9-67c594c74d00"
      },
      "execution_count": 125,
      "outputs": [
        {
          "output_type": "execute_result",
          "data": {
            "text/plain": [
              "array([0])"
            ]
          },
          "metadata": {},
          "execution_count": 125
        }
      ]
    },
    {
      "cell_type": "code",
      "source": [
        "columns_to_drop = [\n",
        "    'FullBath', 'HalfBath', 'BsmtFullBath', 'BsmtHalfBath',  # Used for TotalBath\n",
        "    'OpenPorchSF', 'EnclosedPorch', '3SsnPorch', 'ScreenPorch',  # Used for TotalPorchSF\n",
        "    'GrLivArea', 'TotalBsmtSF', 'GarageArea',  # Used for TotalSqFt\n",
        "    'OverallQual', 'GrLivArea',  # Used for QualitySize\n",
        "     'BsmtFinSF2', 'BsmtFinType2','BsmtFinType1','BsmtFinSF1',  # Used for TotalBsmtFinScore\n",
        "    'Neighborhood',  # Used for NeighborhoodQuality\n",
        "    'ExterQual', 'KitchenQual', 'HeatingQC',  # Used for ordinal mappings\n",
        "]"
      ],
      "metadata": {
        "id": "k-xgkPJ3SXIk"
      },
      "execution_count": 126,
      "outputs": []
    },
    {
      "cell_type": "code",
      "source": [
        "# Display the updated dataset\n",
        "dataset = dataset.drop(columns=columns_to_drop)\n",
        "print(dataset.head())"
      ],
      "metadata": {
        "colab": {
          "base_uri": "https://localhost:8080/"
        },
        "id": "OJ4MnBapPCkd",
        "outputId": "2281b632-f4cf-479d-bcb4-b890942b0b5b"
      },
      "execution_count": 127,
      "outputs": [
        {
          "output_type": "stream",
          "name": "stdout",
          "text": [
            "   MSSubClass MSZoning  LotFrontage   LotArea LotShape LandContour Utilities  \\\n",
            "0          60       RL     4.189655  9.042040      Reg         Lvl    AllPub   \n",
            "1          20       RL     4.394449  9.169623      Reg         Lvl    AllPub   \n",
            "2          60       RL     4.234107  9.328212      IR1         Lvl    AllPub   \n",
            "3          70       RL     4.110874  9.164401      IR1         Lvl    AllPub   \n",
            "4          60       RL     4.442651  9.565284      IR1         Lvl    AllPub   \n",
            "\n",
            "  LotConfig LandSlope Condition1  ... IsRemodeled    TotalSqFt HasGarage  \\\n",
            "0    Inside       Gtl       Norm  ...           0  1411.444833         1   \n",
            "1       FR2       Gtl      Feedr  ...           0  1729.141245         1   \n",
            "2    Inside       Gtl       Norm  ...           1  1535.488294         1   \n",
            "3    Corner       Gtl       Norm  ...           1  1405.448916         1   \n",
            "4       FR2       Gtl       Norm  ...           0  1988.695758         1   \n",
            "\n",
            "   QualitySize  TotalBsmtFinScore  BsmtFinRatio NeighborhoodQuality  \\\n",
            "0    52.113833             4236.0      0.824766           85.343807   \n",
            "1    42.847471             4890.0      0.774960           73.753530   \n",
            "2    52.418055             2916.0      0.528261           85.343807   \n",
            "3    52.142413             1080.0      0.285714           85.464349   \n",
            "4    61.566064             3930.0      0.572052          100.932229   \n",
            "\n",
            "  ExterQual_ordinal KitchenQual_ordinal HeatingQC_ordinal  \n",
            "0                 4                   4                 5  \n",
            "1                 3                   3                 5  \n",
            "2                 4                   4                 5  \n",
            "3                 3                   4                 4  \n",
            "4                 4                   4                 5  \n",
            "\n",
            "[5 rows x 67 columns]\n"
          ]
        }
      ]
    },
    {
      "cell_type": "markdown",
      "source": [
        "#1. Encoding Categorical Columns"
      ],
      "metadata": {
        "id": "TFqMe7wD0rFm"
      }
    },
    {
      "cell_type": "code",
      "source": [
        "dataset.info()"
      ],
      "metadata": {
        "colab": {
          "base_uri": "https://localhost:8080/"
        },
        "id": "_ge5k3B6ZKVa",
        "outputId": "d25be2ce-8d7c-460e-aee5-640dfa6fb1c4"
      },
      "execution_count": 128,
      "outputs": [
        {
          "output_type": "stream",
          "name": "stdout",
          "text": [
            "<class 'pandas.core.frame.DataFrame'>\n",
            "RangeIndex: 1460 entries, 0 to 1459\n",
            "Data columns (total 67 columns):\n",
            " #   Column               Non-Null Count  Dtype  \n",
            "---  ------               --------------  -----  \n",
            " 0   MSSubClass           1460 non-null   int64  \n",
            " 1   MSZoning             1460 non-null   object \n",
            " 2   LotFrontage          1460 non-null   float64\n",
            " 3   LotArea              1460 non-null   float64\n",
            " 4   LotShape             1460 non-null   object \n",
            " 5   LandContour          1460 non-null   object \n",
            " 6   Utilities            1460 non-null   object \n",
            " 7   LotConfig            1460 non-null   object \n",
            " 8   LandSlope            1460 non-null   object \n",
            " 9   Condition1           1460 non-null   object \n",
            " 10  Condition2           1460 non-null   object \n",
            " 11  BldgType             1460 non-null   object \n",
            " 12  HouseStyle           1460 non-null   object \n",
            " 13  OverallCond          1460 non-null   int64  \n",
            " 14  YearBuilt            1460 non-null   int64  \n",
            " 15  YearRemodAdd         1460 non-null   int64  \n",
            " 16  RoofStyle            1460 non-null   object \n",
            " 17  RoofMatl             1460 non-null   object \n",
            " 18  Exterior1st          1460 non-null   object \n",
            " 19  Exterior2nd          1460 non-null   object \n",
            " 20  MasVnrArea           1460 non-null   float64\n",
            " 21  ExterCond            1460 non-null   object \n",
            " 22  Foundation           1460 non-null   object \n",
            " 23  BsmtQual             1423 non-null   object \n",
            " 24  BsmtCond             1423 non-null   object \n",
            " 25  BsmtExposure         1423 non-null   object \n",
            " 26  BsmtUnfSF            1460 non-null   float64\n",
            " 27  Heating              1460 non-null   object \n",
            " 28  CentralAir           1460 non-null   object \n",
            " 29  Electrical           1460 non-null   object \n",
            " 30  1stFlrSF             1460 non-null   int64  \n",
            " 31  2ndFlrSF             1460 non-null   int64  \n",
            " 32  LowQualFinSF         1460 non-null   int64  \n",
            " 33  BedroomAbvGr         1460 non-null   int64  \n",
            " 34  KitchenAbvGr         1460 non-null   int64  \n",
            " 35  TotRmsAbvGrd         1460 non-null   int64  \n",
            " 36  Functional           1460 non-null   object \n",
            " 37  Fireplaces           1460 non-null   float64\n",
            " 38  FireplaceQu          770 non-null    object \n",
            " 39  GarageType           1379 non-null   object \n",
            " 40  GarageYrBlt          1460 non-null   int64  \n",
            " 41  GarageFinish         1379 non-null   object \n",
            " 42  GarageCars           1460 non-null   float64\n",
            " 43  GarageQual           1379 non-null   object \n",
            " 44  GarageCond           1379 non-null   object \n",
            " 45  PavedDrive           1460 non-null   object \n",
            " 46  WoodDeckSF           1460 non-null   int64  \n",
            " 47  PoolArea             1460 non-null   int64  \n",
            " 48  MiscVal              1460 non-null   int64  \n",
            " 49  MoSold               1460 non-null   int64  \n",
            " 50  YrSold               1460 non-null   int64  \n",
            " 51  SaleType             1460 non-null   object \n",
            " 52  SaleCondition        1460 non-null   object \n",
            " 53  SalePrice            1460 non-null   float64\n",
            " 54  TotalBath            1460 non-null   float64\n",
            " 55  TotalPorchSF         1460 non-null   int64  \n",
            " 56  HouseAge             1460 non-null   int64  \n",
            " 57  IsRemodeled          1460 non-null   int64  \n",
            " 58  TotalSqFt            1460 non-null   float64\n",
            " 59  HasGarage            1460 non-null   int64  \n",
            " 60  QualitySize          1460 non-null   float64\n",
            " 61  TotalBsmtFinScore    1423 non-null   float64\n",
            " 62  BsmtFinRatio         1460 non-null   float64\n",
            " 63  NeighborhoodQuality  1460 non-null   float64\n",
            " 64  ExterQual_ordinal    1460 non-null   int64  \n",
            " 65  KitchenQual_ordinal  1460 non-null   int64  \n",
            " 66  HeatingQC_ordinal    1460 non-null   int64  \n",
            "dtypes: float64(13), int64(23), object(31)\n",
            "memory usage: 764.3+ KB\n"
          ]
        }
      ]
    },
    {
      "cell_type": "code",
      "source": [
        "# Nominal categorical features\n",
        "nominal_cols = [\n",
        "    'MSZoning', 'LotShape', 'LandContour', 'Utilities', 'LotConfig', 'LandSlope',\n",
        "    'Condition1', 'Condition2', 'BldgType', 'HouseStyle', 'RoofStyle', 'RoofMatl',\n",
        "    'Exterior1st', 'Exterior2nd', 'Foundation', 'Heating', 'CentralAir', 'Electrical',\n",
        "    'Functional', 'GarageType', 'GarageFinish', 'SaleType', 'SaleCondition'\n",
        "]\n",
        "\n",
        "# Apply One-Hot Encoding\n",
        "dataset = pd.get_dummies(dataset, columns=nominal_cols, drop_first=True)"
      ],
      "metadata": {
        "id": "_26Z1y9MbIzt"
      },
      "execution_count": 129,
      "outputs": []
    },
    {
      "cell_type": "code",
      "source": [
        "from sklearn.preprocessing import LabelEncoder\n",
        "\n",
        "# Ordinal categorical features (excluding 'KitchenQual' since it was dropped)\n",
        "ordinal_cols = [\n",
        "    'ExterCond', 'BsmtQual', 'BsmtCond', 'BsmtExposure', 'HeatingQC',\n",
        "    'FireplaceQu', 'GarageQual', 'GarageCond', 'PavedDrive'\n",
        "]\n",
        "\n",
        "# Create a mapping for ordinal features (excluding 'KitchenQual')\n",
        "ordinal_mappings = {\n",
        "    'ExterCond': {'Ex': 5, 'Gd': 4, 'TA': 3, 'Fa': 2, 'Po': 1},\n",
        "    'BsmtQual': {'Ex': 5, 'Gd': 4, 'TA': 3, 'Fa': 2, 'Po': 1, 'NA': 0},\n",
        "    'BsmtCond': {'Ex': 5, 'Gd': 4, 'TA': 3, 'Fa': 2, 'Po': 1, 'NA': 0},\n",
        "    'BsmtExposure': {'Gd': 4, 'Av': 3, 'Mn': 2, 'No': 1, 'NA': 0},\n",
        "    'HeatingQC': {'Ex': 5, 'Gd': 4, 'TA': 3, 'Fa': 2, 'Po': 1},\n",
        "    'FireplaceQu': {'Ex': 5, 'Gd': 4, 'TA': 3, 'Fa': 2, 'Po': 1, 'NA': 0},\n",
        "    'GarageQual': {'Ex': 5, 'Gd': 4, 'TA': 3, 'Fa': 2, 'Po': 1, 'NA': 0},\n",
        "    'GarageCond': {'Ex': 5, 'Gd': 4, 'TA': 3, 'Fa': 2, 'Po': 1, 'NA': 0},\n",
        "    'PavedDrive': {'Y': 2, 'P': 1, 'N': 0}\n",
        "}\n",
        "\n",
        "# Apply Label Encoding using the mappings\n",
        "for col in ordinal_cols:\n",
        "    if col in dataset.columns:\n",
        "        dataset[col] = dataset[col].map(ordinal_mappings[col])"
      ],
      "metadata": {
        "id": "At9G6sHQbNju"
      },
      "execution_count": 130,
      "outputs": []
    },
    {
      "cell_type": "code",
      "source": [
        "import numpy as np\n",
        "\n",
        "# Check for non-finite values (NaN, inf, -inf)\n",
        "non_finite_counts = (dataset.isna().sum() + (dataset == np.inf).sum() + (dataset == -np.inf).sum())\n",
        "print(\"Non-finite values in each column:\")\n",
        "print(non_finite_counts[non_finite_counts > 0])"
      ],
      "metadata": {
        "colab": {
          "base_uri": "https://localhost:8080/"
        },
        "id": "kRnlW5lxd2zM",
        "outputId": "56042fb3-6170-4cae-e965-45ca133d7a15"
      },
      "execution_count": 131,
      "outputs": [
        {
          "output_type": "stream",
          "name": "stdout",
          "text": [
            "Non-finite values in each column:\n",
            "BsmtQual              37\n",
            "BsmtCond              37\n",
            "BsmtExposure          37\n",
            "FireplaceQu          690\n",
            "GarageQual            81\n",
            "GarageCond            81\n",
            "TotalBsmtFinScore     37\n",
            "dtype: int64\n"
          ]
        }
      ]
    },
    {
      "cell_type": "code",
      "source": [
        "# Replace non-finite values with 0\n",
        "dataset = dataset.replace([np.inf, -np.inf], np.nan)  # Convert inf/-inf to NaN first\n",
        "dataset = dataset.fillna(0)  # Replace NaN with 0"
      ],
      "metadata": {
        "id": "cCw4TNergbjh"
      },
      "execution_count": 132,
      "outputs": []
    },
    {
      "cell_type": "code",
      "source": [
        "import numpy as np\n",
        "\n",
        "# Check for non-finite values (NaN, inf, -inf)\n",
        "non_finite_counts = (dataset.isna().sum() + (dataset == np.inf).sum() + (dataset == -np.inf).sum())\n",
        "print(\"Non-finite values in each column:\")\n",
        "print(non_finite_counts[non_finite_counts > 0])"
      ],
      "metadata": {
        "colab": {
          "base_uri": "https://localhost:8080/"
        },
        "id": "RQ9YvEn5gfv9",
        "outputId": "7f22d0f5-35c6-43ee-9c03-7eb974cd0ce1"
      },
      "execution_count": 133,
      "outputs": [
        {
          "output_type": "stream",
          "name": "stdout",
          "text": [
            "Non-finite values in each column:\n",
            "Series([], dtype: int64)\n"
          ]
        }
      ]
    },
    {
      "cell_type": "code",
      "source": [
        "dataset.info()"
      ],
      "metadata": {
        "colab": {
          "base_uri": "https://localhost:8080/"
        },
        "id": "iS8eE6HSgmaL",
        "outputId": "1b9c605d-b805-4d69-d1b1-50e39a58de18"
      },
      "execution_count": 134,
      "outputs": [
        {
          "output_type": "stream",
          "name": "stdout",
          "text": [
            "<class 'pandas.core.frame.DataFrame'>\n",
            "RangeIndex: 1460 entries, 0 to 1459\n",
            "Columns: 169 entries, MSSubClass to SaleCondition_Partial\n",
            "dtypes: bool(125), float64(19), int64(25)\n",
            "memory usage: 680.2 KB\n"
          ]
        }
      ]
    },
    {
      "cell_type": "code",
      "source": [
        "# Convert True/False to 0/1 in one-hot encoded columns\n",
        "print(dataset.isnull().sum())\n",
        "# Display the dataset without the index\n"
      ],
      "metadata": {
        "colab": {
          "base_uri": "https://localhost:8080/"
        },
        "id": "oVVMVmeWcOKQ",
        "outputId": "0a2bf7c0-bca1-4965-b4c5-7c0f57fffa58"
      },
      "execution_count": 135,
      "outputs": [
        {
          "output_type": "stream",
          "name": "stdout",
          "text": [
            "MSSubClass               0\n",
            "LotFrontage              0\n",
            "LotArea                  0\n",
            "OverallCond              0\n",
            "YearBuilt                0\n",
            "                        ..\n",
            "SaleCondition_AdjLand    0\n",
            "SaleCondition_Alloca     0\n",
            "SaleCondition_Family     0\n",
            "SaleCondition_Normal     0\n",
            "SaleCondition_Partial    0\n",
            "Length: 169, dtype: int64\n"
          ]
        }
      ]
    },
    {
      "cell_type": "code",
      "source": [
        "dataset.duplicated().sum()"
      ],
      "metadata": {
        "colab": {
          "base_uri": "https://localhost:8080/"
        },
        "id": "wDYsZXsSc9pD",
        "outputId": "bb1964c0-85c8-42f5-efac-53533911f2b7"
      },
      "execution_count": 136,
      "outputs": [
        {
          "output_type": "execute_result",
          "data": {
            "text/plain": [
              "0"
            ]
          },
          "metadata": {},
          "execution_count": 136
        }
      ]
    },
    {
      "cell_type": "code",
      "source": [
        "print(\"Non-finite values in each column:\")\n",
        "print((dataset == np.inf).sum() + (dataset == -np.inf).sum())"
      ],
      "metadata": {
        "colab": {
          "base_uri": "https://localhost:8080/"
        },
        "id": "tRccwOGPdPfA",
        "outputId": "0c013452-5d25-4656-c9ef-bfeae75e3987"
      },
      "execution_count": 137,
      "outputs": [
        {
          "output_type": "stream",
          "name": "stdout",
          "text": [
            "Non-finite values in each column:\n",
            "MSSubClass               0\n",
            "LotFrontage              0\n",
            "LotArea                  0\n",
            "OverallCond              0\n",
            "YearBuilt                0\n",
            "                        ..\n",
            "SaleCondition_AdjLand    0\n",
            "SaleCondition_Alloca     0\n",
            "SaleCondition_Family     0\n",
            "SaleCondition_Normal     0\n",
            "SaleCondition_Partial    0\n",
            "Length: 169, dtype: int64\n"
          ]
        }
      ]
    },
    {
      "cell_type": "code",
      "source": [
        "# Display the first few rows of the encoded dataset\n",
        "print(dataset.head())\n",
        "\n",
        "# Display dataset info\n",
        "print(dataset.info())"
      ],
      "metadata": {
        "colab": {
          "base_uri": "https://localhost:8080/"
        },
        "id": "yv-_Qorybn3M",
        "outputId": "4dcb8e6f-3f58-475d-c8c8-27ae39fa9e41"
      },
      "execution_count": 138,
      "outputs": [
        {
          "output_type": "stream",
          "name": "stdout",
          "text": [
            "   MSSubClass  LotFrontage   LotArea  OverallCond  YearBuilt  YearRemodAdd  \\\n",
            "0          60     4.189655  9.042040            5       2003          2003   \n",
            "1          20     4.394449  9.169623            8       1976          1976   \n",
            "2          60     4.234107  9.328212            5       2001          2002   \n",
            "3          70     4.110874  9.164401            5       1915          1970   \n",
            "4          60     4.442651  9.565284            5       2000          2000   \n",
            "\n",
            "   MasVnrArea  ExterCond  BsmtQual  BsmtCond  ...  SaleType_ConLI  \\\n",
            "0       196.0          3       4.0       3.0  ...           False   \n",
            "1         0.0          3       4.0       3.0  ...           False   \n",
            "2       162.0          3       4.0       3.0  ...           False   \n",
            "3         0.0          3       3.0       4.0  ...           False   \n",
            "4       350.0          3       4.0       3.0  ...           False   \n",
            "\n",
            "   SaleType_ConLw  SaleType_New  SaleType_Oth  SaleType_WD  \\\n",
            "0           False         False         False         True   \n",
            "1           False         False         False         True   \n",
            "2           False         False         False         True   \n",
            "3           False         False         False         True   \n",
            "4           False         False         False         True   \n",
            "\n",
            "   SaleCondition_AdjLand  SaleCondition_Alloca  SaleCondition_Family  \\\n",
            "0                  False                 False                 False   \n",
            "1                  False                 False                 False   \n",
            "2                  False                 False                 False   \n",
            "3                  False                 False                 False   \n",
            "4                  False                 False                 False   \n",
            "\n",
            "   SaleCondition_Normal  SaleCondition_Partial  \n",
            "0                  True                  False  \n",
            "1                  True                  False  \n",
            "2                  True                  False  \n",
            "3                 False                  False  \n",
            "4                  True                  False  \n",
            "\n",
            "[5 rows x 169 columns]\n",
            "<class 'pandas.core.frame.DataFrame'>\n",
            "RangeIndex: 1460 entries, 0 to 1459\n",
            "Columns: 169 entries, MSSubClass to SaleCondition_Partial\n",
            "dtypes: bool(125), float64(19), int64(25)\n",
            "memory usage: 680.2 KB\n",
            "None\n"
          ]
        }
      ]
    },
    {
      "cell_type": "code",
      "source": [
        "# Step 1: Identify boolean columns\n",
        "bool_cols = dataset.select_dtypes(include=['bool']).columns\n",
        "print(\"Boolean columns to convert:\")\n",
        "print(bool_cols)\n",
        "\n",
        "# Step 2: Convert boolean columns to integers\n",
        "dataset[bool_cols] = dataset[bool_cols].astype(int)\n",
        "\n",
        "# Step 3: Verify the conversion\n",
        "print(\"Dataset after converting boolean columns to integers:\")\n",
        "print(dataset.head())\n",
        "print(dataset.info())"
      ],
      "metadata": {
        "colab": {
          "base_uri": "https://localhost:8080/"
        },
        "id": "eAWOu84ShlD7",
        "outputId": "0b24d4da-cc41-48bb-afb7-a7df47eb4d66"
      },
      "execution_count": 139,
      "outputs": [
        {
          "output_type": "stream",
          "name": "stdout",
          "text": [
            "Boolean columns to convert:\n",
            "Index(['MSZoning_FV', 'MSZoning_RH', 'MSZoning_RL', 'MSZoning_RM',\n",
            "       'LotShape_IR2', 'LotShape_IR3', 'LotShape_Reg', 'LandContour_HLS',\n",
            "       'LandContour_Low', 'LandContour_Lvl',\n",
            "       ...\n",
            "       'SaleType_ConLI', 'SaleType_ConLw', 'SaleType_New', 'SaleType_Oth',\n",
            "       'SaleType_WD', 'SaleCondition_AdjLand', 'SaleCondition_Alloca',\n",
            "       'SaleCondition_Family', 'SaleCondition_Normal',\n",
            "       'SaleCondition_Partial'],\n",
            "      dtype='object', length=125)\n",
            "Dataset after converting boolean columns to integers:\n",
            "   MSSubClass  LotFrontage   LotArea  OverallCond  YearBuilt  YearRemodAdd  \\\n",
            "0          60     4.189655  9.042040            5       2003          2003   \n",
            "1          20     4.394449  9.169623            8       1976          1976   \n",
            "2          60     4.234107  9.328212            5       2001          2002   \n",
            "3          70     4.110874  9.164401            5       1915          1970   \n",
            "4          60     4.442651  9.565284            5       2000          2000   \n",
            "\n",
            "   MasVnrArea  ExterCond  BsmtQual  BsmtCond  ...  SaleType_ConLI  \\\n",
            "0       196.0          3       4.0       3.0  ...               0   \n",
            "1         0.0          3       4.0       3.0  ...               0   \n",
            "2       162.0          3       4.0       3.0  ...               0   \n",
            "3         0.0          3       3.0       4.0  ...               0   \n",
            "4       350.0          3       4.0       3.0  ...               0   \n",
            "\n",
            "   SaleType_ConLw  SaleType_New  SaleType_Oth  SaleType_WD  \\\n",
            "0               0             0             0            1   \n",
            "1               0             0             0            1   \n",
            "2               0             0             0            1   \n",
            "3               0             0             0            1   \n",
            "4               0             0             0            1   \n",
            "\n",
            "   SaleCondition_AdjLand  SaleCondition_Alloca  SaleCondition_Family  \\\n",
            "0                      0                     0                     0   \n",
            "1                      0                     0                     0   \n",
            "2                      0                     0                     0   \n",
            "3                      0                     0                     0   \n",
            "4                      0                     0                     0   \n",
            "\n",
            "   SaleCondition_Normal  SaleCondition_Partial  \n",
            "0                     1                      0  \n",
            "1                     1                      0  \n",
            "2                     1                      0  \n",
            "3                     0                      0  \n",
            "4                     1                      0  \n",
            "\n",
            "[5 rows x 169 columns]\n",
            "<class 'pandas.core.frame.DataFrame'>\n",
            "RangeIndex: 1460 entries, 0 to 1459\n",
            "Columns: 169 entries, MSSubClass to SaleCondition_Partial\n",
            "dtypes: float64(19), int64(150)\n",
            "memory usage: 1.9 MB\n",
            "None\n"
          ]
        }
      ]
    },
    {
      "cell_type": "markdown",
      "source": [
        "#Feature Scaling"
      ],
      "metadata": {
        "id": "-lS_3vKlLOa6"
      }
    },
    {
      "cell_type": "code",
      "source": [
        "# Step 2: Scale Numerical and Encoded Categorical Features\n",
        "# Identify numerical columns (including encoded categorical columns)\n",
        "numerical_cols = dataset.select_dtypes(include=['number']).columns\n",
        "\n",
        "# Apply StandardScaler to numerical and encoded categorical columns\n",
        "scaler = StandardScaler()\n",
        "dataset[numerical_cols] = scaler.fit_transform(dataset[numerical_cols])\n",
        "\n",
        "# Step 3: Inspect the Final Dataset\n",
        "print(\"Final Dataset (Encoded and Scaled):\")\n",
        "print(dataset.head())"
      ],
      "metadata": {
        "colab": {
          "base_uri": "https://localhost:8080/"
        },
        "id": "w475w7kqLN6A",
        "outputId": "d4bd1a89-83ea-4b3c-cf80-44bf8b36af42"
      },
      "execution_count": 140,
      "outputs": [
        {
          "output_type": "stream",
          "name": "stdout",
          "text": [
            "Final Dataset (Encoded and Scaled):\n",
            "   MSSubClass  LotFrontage   LotArea  OverallCond  YearBuilt  YearRemodAdd  \\\n",
            "0    0.073375    -0.064612 -0.133270    -0.517200   1.050994      0.878668   \n",
            "1   -0.872563     0.559562  0.113413     2.179628   0.156734     -0.429577   \n",
            "2    0.073375     0.070868  0.420049    -0.517200   0.984752      0.830215   \n",
            "3    0.309859    -0.304721  0.103317    -0.517200  -1.863632     -0.720298   \n",
            "4    0.073375     0.706473  0.878431    -0.517200   0.951632      0.733308   \n",
            "\n",
            "   MasVnrArea  ExterCond  BsmtQual  BsmtCond  ...  SaleType_ConLI  \\\n",
            "0    0.795643  -0.238112  0.583168  0.117884  ...       -0.058621   \n",
            "1   -0.667353  -0.238112  0.583168  0.117884  ...       -0.058621   \n",
            "2    0.541858  -0.238112  0.583168  0.117884  ...       -0.058621   \n",
            "3   -0.667353  -0.238112 -0.558153  1.929579  ...       -0.058621   \n",
            "4    1.945140  -0.238112  0.583168  0.117884  ...       -0.058621   \n",
            "\n",
            "   SaleType_ConLw  SaleType_New  SaleType_Oth  SaleType_WD  \\\n",
            "0       -0.058621     -0.301962     -0.045376     0.390293   \n",
            "1       -0.058621     -0.301962     -0.045376     0.390293   \n",
            "2       -0.058621     -0.301962     -0.045376     0.390293   \n",
            "3       -0.058621     -0.301962     -0.045376     0.390293   \n",
            "4       -0.058621     -0.301962     -0.045376     0.390293   \n",
            "\n",
            "   SaleCondition_AdjLand  SaleCondition_Alloca  SaleCondition_Family  \\\n",
            "0              -0.052414             -0.091035             -0.117851   \n",
            "1              -0.052414             -0.091035             -0.117851   \n",
            "2              -0.052414             -0.091035             -0.117851   \n",
            "3              -0.052414             -0.091035             -0.117851   \n",
            "4              -0.052414             -0.091035             -0.117851   \n",
            "\n",
            "   SaleCondition_Normal  SaleCondition_Partial  \n",
            "0              0.467651              -0.305995  \n",
            "1              0.467651              -0.305995  \n",
            "2              0.467651              -0.305995  \n",
            "3             -2.138345              -0.305995  \n",
            "4              0.467651              -0.305995  \n",
            "\n",
            "[5 rows x 169 columns]\n"
          ]
        }
      ]
    },
    {
      "cell_type": "code",
      "source": [
        "from sklearn.preprocessing import MinMaxScaler\n",
        "\n",
        "# Initialize MinMaxScaler\n",
        "minmax_scaler = MinMaxScaler()\n",
        "\n",
        "# Fit and transform the data\n",
        "dataset[numerical_cols] = minmax_scaler.fit_transform(dataset[numerical_cols])\n",
        "\n",
        "# Display the scaled DataFrame\n",
        "print(dataset.head())\n"
      ],
      "metadata": {
        "colab": {
          "base_uri": "https://localhost:8080/"
        },
        "id": "bZHq9dV9NCU8",
        "outputId": "4a074fd8-94f9-48f5-a6c3-1cfe22369795"
      },
      "execution_count": 142,
      "outputs": [
        {
          "output_type": "stream",
          "name": "stdout",
          "text": [
            "   MSSubClass  LotFrontage   LotArea  OverallCond  YearBuilt  YearRemodAdd  \\\n",
            "0    0.235294     0.413268  0.366271        0.500   0.949275      0.883333   \n",
            "1    0.000000     0.490307  0.391245        0.875   0.753623      0.433333   \n",
            "2    0.235294     0.429990  0.422289        0.500   0.934783      0.866667   \n",
            "3    0.294118     0.383633  0.390223        0.500   0.311594      0.333333   \n",
            "4    0.235294     0.508439  0.468694        0.500   0.927536      0.833333   \n",
            "\n",
            "   MasVnrArea  ExterCond  BsmtQual  BsmtCond  ...  SaleType_ConLI  \\\n",
            "0    0.477321        0.5       0.8      0.75  ...             0.0   \n",
            "1    0.000000        0.5       0.8      0.75  ...             0.0   \n",
            "2    0.394521        0.5       0.8      0.75  ...             0.0   \n",
            "3    0.000000        0.5       0.6      1.00  ...             0.0   \n",
            "4    0.852359        0.5       0.8      0.75  ...             0.0   \n",
            "\n",
            "   SaleType_ConLw  SaleType_New  SaleType_Oth  SaleType_WD  \\\n",
            "0             0.0           0.0           0.0          1.0   \n",
            "1             0.0           0.0           0.0          1.0   \n",
            "2             0.0           0.0           0.0          1.0   \n",
            "3             0.0           0.0           0.0          1.0   \n",
            "4             0.0           0.0           0.0          1.0   \n",
            "\n",
            "   SaleCondition_AdjLand  SaleCondition_Alloca  SaleCondition_Family  \\\n",
            "0                    0.0                   0.0                   0.0   \n",
            "1                    0.0                   0.0                   0.0   \n",
            "2                    0.0                   0.0                   0.0   \n",
            "3                    0.0                   0.0                   0.0   \n",
            "4                    0.0                   0.0                   0.0   \n",
            "\n",
            "   SaleCondition_Normal  SaleCondition_Partial  \n",
            "0                   1.0                    0.0  \n",
            "1                   1.0                    0.0  \n",
            "2                   1.0                    0.0  \n",
            "3                   0.0                    0.0  \n",
            "4                   1.0                    0.0  \n",
            "\n",
            "[5 rows x 169 columns]\n"
          ]
        }
      ]
    },
    {
      "cell_type": "code",
      "source": [
        "from sklearn.preprocessing import RobustScaler\n",
        "\n",
        "robust_scaler = RobustScaler()\n",
        "df_scaled = pd.DataFrame(robust_scaler.fit_transform(dataset), columns=dataset.columns)\n",
        "\n",
        "# Shift the values to make them all positive (optional)\n",
        "df_scaled = df_scaled - df_scaled.min()\n",
        "\n",
        "print(dataset.head())\n",
        "\n"
      ],
      "metadata": {
        "colab": {
          "base_uri": "https://localhost:8080/"
        },
        "id": "LXKVAO9ATQku",
        "outputId": "c86d0e8d-7ad4-4a4c-d0f6-f971d02b3ea0"
      },
      "execution_count": 143,
      "outputs": [
        {
          "output_type": "stream",
          "name": "stdout",
          "text": [
            "   MSSubClass  LotFrontage   LotArea  OverallCond  YearBuilt  YearRemodAdd  \\\n",
            "0    0.235294     0.413268  0.366271        0.500   0.949275      0.883333   \n",
            "1    0.000000     0.490307  0.391245        0.875   0.753623      0.433333   \n",
            "2    0.235294     0.429990  0.422289        0.500   0.934783      0.866667   \n",
            "3    0.294118     0.383633  0.390223        0.500   0.311594      0.333333   \n",
            "4    0.235294     0.508439  0.468694        0.500   0.927536      0.833333   \n",
            "\n",
            "   MasVnrArea  ExterCond  BsmtQual  BsmtCond  ...  SaleType_ConLI  \\\n",
            "0    0.477321        0.5       0.8      0.75  ...             0.0   \n",
            "1    0.000000        0.5       0.8      0.75  ...             0.0   \n",
            "2    0.394521        0.5       0.8      0.75  ...             0.0   \n",
            "3    0.000000        0.5       0.6      1.00  ...             0.0   \n",
            "4    0.852359        0.5       0.8      0.75  ...             0.0   \n",
            "\n",
            "   SaleType_ConLw  SaleType_New  SaleType_Oth  SaleType_WD  \\\n",
            "0             0.0           0.0           0.0          1.0   \n",
            "1             0.0           0.0           0.0          1.0   \n",
            "2             0.0           0.0           0.0          1.0   \n",
            "3             0.0           0.0           0.0          1.0   \n",
            "4             0.0           0.0           0.0          1.0   \n",
            "\n",
            "   SaleCondition_AdjLand  SaleCondition_Alloca  SaleCondition_Family  \\\n",
            "0                    0.0                   0.0                   0.0   \n",
            "1                    0.0                   0.0                   0.0   \n",
            "2                    0.0                   0.0                   0.0   \n",
            "3                    0.0                   0.0                   0.0   \n",
            "4                    0.0                   0.0                   0.0   \n",
            "\n",
            "   SaleCondition_Normal  SaleCondition_Partial  \n",
            "0                   1.0                    0.0  \n",
            "1                   1.0                    0.0  \n",
            "2                   1.0                    0.0  \n",
            "3                   0.0                    0.0  \n",
            "4                   1.0                    0.0  \n",
            "\n",
            "[5 rows x 169 columns]\n"
          ]
        }
      ]
    },
    {
      "cell_type": "code",
      "source": [
        "import pandas as pd\n",
        "from sklearn.preprocessing import RobustScaler\n",
        "\n",
        "# Initialize RobustScaler\n",
        "scaler = RobustScaler()\n",
        "\n",
        "# Scale the numerical columns\n",
        "numerical_cols = dataset.select_dtypes(include=['float64', 'int64']).columns\n",
        "dataset[numerical_cols] = scaler.fit_transform(dataset[numerical_cols])\n",
        "\n",
        "# Save the scaled dataset to a CSV file\n",
        "dataset.to_csv(\"/content/drive/My Drive/Machine Learning/scaled_dataset.csv\", index=False)"
      ],
      "metadata": {
        "id": "YNMRqsJvj6wv"
      },
      "execution_count": 145,
      "outputs": []
    }
  ]
}